{
 "cells": [
  {
   "cell_type": "markdown",
   "id": "d44e4f9f",
   "metadata": {},
   "source": [
    "Завдання №1"
   ]
  },
  {
   "cell_type": "markdown",
   "id": "e48adcf9",
   "metadata": {},
   "source": [
    "Загрузити датасет Global YouTube Statistics 2023 "
   ]
  },
  {
   "cell_type": "code",
   "execution_count": 163,
   "id": "7fed7ee6",
   "metadata": {},
   "outputs": [],
   "source": [
    "import pandas as pd\n",
    "data = pd.read_csv(\"Global YouTube Statistics.csv\", encoding=\"latin1\")"
   ]
  },
  {
   "cell_type": "code",
   "execution_count": 164,
   "id": "a819edcf",
   "metadata": {},
   "outputs": [
    {
     "data": {
      "text/html": [
       "<div>\n",
       "<style scoped>\n",
       "    .dataframe tbody tr th:only-of-type {\n",
       "        vertical-align: middle;\n",
       "    }\n",
       "\n",
       "    .dataframe tbody tr th {\n",
       "        vertical-align: top;\n",
       "    }\n",
       "\n",
       "    .dataframe thead th {\n",
       "        text-align: right;\n",
       "    }\n",
       "</style>\n",
       "<table border=\"1\" class=\"dataframe\">\n",
       "  <thead>\n",
       "    <tr style=\"text-align: right;\">\n",
       "      <th></th>\n",
       "      <th>rank</th>\n",
       "      <th>Youtuber</th>\n",
       "      <th>subscribers</th>\n",
       "      <th>video views</th>\n",
       "      <th>category</th>\n",
       "      <th>Title</th>\n",
       "      <th>uploads</th>\n",
       "      <th>Country</th>\n",
       "      <th>Abbreviation</th>\n",
       "      <th>channel_type</th>\n",
       "      <th>...</th>\n",
       "      <th>subscribers_for_last_30_days</th>\n",
       "      <th>created_year</th>\n",
       "      <th>created_month</th>\n",
       "      <th>created_date</th>\n",
       "      <th>Gross tertiary education enrollment (%)</th>\n",
       "      <th>Population</th>\n",
       "      <th>Unemployment rate</th>\n",
       "      <th>Urban_population</th>\n",
       "      <th>Latitude</th>\n",
       "      <th>Longitude</th>\n",
       "    </tr>\n",
       "  </thead>\n",
       "  <tbody>\n",
       "    <tr>\n",
       "      <th>0</th>\n",
       "      <td>1</td>\n",
       "      <td>T-Series</td>\n",
       "      <td>245000000</td>\n",
       "      <td>2.280000e+11</td>\n",
       "      <td>Music</td>\n",
       "      <td>T-Series</td>\n",
       "      <td>20082</td>\n",
       "      <td>India</td>\n",
       "      <td>IN</td>\n",
       "      <td>Music</td>\n",
       "      <td>...</td>\n",
       "      <td>2000000.0</td>\n",
       "      <td>2006.0</td>\n",
       "      <td>Mar</td>\n",
       "      <td>13.0</td>\n",
       "      <td>28.1</td>\n",
       "      <td>1.366418e+09</td>\n",
       "      <td>5.36</td>\n",
       "      <td>471031528.0</td>\n",
       "      <td>20.593684</td>\n",
       "      <td>78.962880</td>\n",
       "    </tr>\n",
       "    <tr>\n",
       "      <th>1</th>\n",
       "      <td>2</td>\n",
       "      <td>YouTube Movies</td>\n",
       "      <td>170000000</td>\n",
       "      <td>0.000000e+00</td>\n",
       "      <td>Film &amp; Animation</td>\n",
       "      <td>youtubemovies</td>\n",
       "      <td>1</td>\n",
       "      <td>United States</td>\n",
       "      <td>US</td>\n",
       "      <td>Games</td>\n",
       "      <td>...</td>\n",
       "      <td>NaN</td>\n",
       "      <td>2006.0</td>\n",
       "      <td>Mar</td>\n",
       "      <td>5.0</td>\n",
       "      <td>88.2</td>\n",
       "      <td>3.282395e+08</td>\n",
       "      <td>14.70</td>\n",
       "      <td>270663028.0</td>\n",
       "      <td>37.090240</td>\n",
       "      <td>-95.712891</td>\n",
       "    </tr>\n",
       "    <tr>\n",
       "      <th>2</th>\n",
       "      <td>3</td>\n",
       "      <td>MrBeast</td>\n",
       "      <td>166000000</td>\n",
       "      <td>2.836884e+10</td>\n",
       "      <td>Entertainment</td>\n",
       "      <td>MrBeast</td>\n",
       "      <td>741</td>\n",
       "      <td>United States</td>\n",
       "      <td>US</td>\n",
       "      <td>Entertainment</td>\n",
       "      <td>...</td>\n",
       "      <td>8000000.0</td>\n",
       "      <td>2012.0</td>\n",
       "      <td>Feb</td>\n",
       "      <td>20.0</td>\n",
       "      <td>88.2</td>\n",
       "      <td>3.282395e+08</td>\n",
       "      <td>14.70</td>\n",
       "      <td>270663028.0</td>\n",
       "      <td>37.090240</td>\n",
       "      <td>-95.712891</td>\n",
       "    </tr>\n",
       "    <tr>\n",
       "      <th>3</th>\n",
       "      <td>4</td>\n",
       "      <td>Cocomelon - Nursery Rhymes</td>\n",
       "      <td>162000000</td>\n",
       "      <td>1.640000e+11</td>\n",
       "      <td>Education</td>\n",
       "      <td>Cocomelon - Nursery Rhymes</td>\n",
       "      <td>966</td>\n",
       "      <td>United States</td>\n",
       "      <td>US</td>\n",
       "      <td>Education</td>\n",
       "      <td>...</td>\n",
       "      <td>1000000.0</td>\n",
       "      <td>2006.0</td>\n",
       "      <td>Sep</td>\n",
       "      <td>1.0</td>\n",
       "      <td>88.2</td>\n",
       "      <td>3.282395e+08</td>\n",
       "      <td>14.70</td>\n",
       "      <td>270663028.0</td>\n",
       "      <td>37.090240</td>\n",
       "      <td>-95.712891</td>\n",
       "    </tr>\n",
       "    <tr>\n",
       "      <th>4</th>\n",
       "      <td>5</td>\n",
       "      <td>SET India</td>\n",
       "      <td>159000000</td>\n",
       "      <td>1.480000e+11</td>\n",
       "      <td>Shows</td>\n",
       "      <td>SET India</td>\n",
       "      <td>116536</td>\n",
       "      <td>India</td>\n",
       "      <td>IN</td>\n",
       "      <td>Entertainment</td>\n",
       "      <td>...</td>\n",
       "      <td>1000000.0</td>\n",
       "      <td>2006.0</td>\n",
       "      <td>Sep</td>\n",
       "      <td>20.0</td>\n",
       "      <td>28.1</td>\n",
       "      <td>1.366418e+09</td>\n",
       "      <td>5.36</td>\n",
       "      <td>471031528.0</td>\n",
       "      <td>20.593684</td>\n",
       "      <td>78.962880</td>\n",
       "    </tr>\n",
       "  </tbody>\n",
       "</table>\n",
       "<p>5 rows × 28 columns</p>\n",
       "</div>"
      ],
      "text/plain": [
       "   rank                    Youtuber  subscribers   video views  \\\n",
       "0     1                    T-Series    245000000  2.280000e+11   \n",
       "1     2              YouTube Movies    170000000  0.000000e+00   \n",
       "2     3                     MrBeast    166000000  2.836884e+10   \n",
       "3     4  Cocomelon - Nursery Rhymes    162000000  1.640000e+11   \n",
       "4     5                   SET India    159000000  1.480000e+11   \n",
       "\n",
       "           category                       Title  uploads        Country  \\\n",
       "0             Music                    T-Series    20082          India   \n",
       "1  Film & Animation               youtubemovies        1  United States   \n",
       "2     Entertainment                     MrBeast      741  United States   \n",
       "3         Education  Cocomelon - Nursery Rhymes      966  United States   \n",
       "4             Shows                   SET India   116536          India   \n",
       "\n",
       "  Abbreviation   channel_type  ...  subscribers_for_last_30_days  \\\n",
       "0           IN          Music  ...                     2000000.0   \n",
       "1           US          Games  ...                           NaN   \n",
       "2           US  Entertainment  ...                     8000000.0   \n",
       "3           US      Education  ...                     1000000.0   \n",
       "4           IN  Entertainment  ...                     1000000.0   \n",
       "\n",
       "   created_year  created_month  created_date  \\\n",
       "0        2006.0            Mar          13.0   \n",
       "1        2006.0            Mar           5.0   \n",
       "2        2012.0            Feb          20.0   \n",
       "3        2006.0            Sep           1.0   \n",
       "4        2006.0            Sep          20.0   \n",
       "\n",
       "   Gross tertiary education enrollment (%)    Population  Unemployment rate  \\\n",
       "0                                     28.1  1.366418e+09               5.36   \n",
       "1                                     88.2  3.282395e+08              14.70   \n",
       "2                                     88.2  3.282395e+08              14.70   \n",
       "3                                     88.2  3.282395e+08              14.70   \n",
       "4                                     28.1  1.366418e+09               5.36   \n",
       "\n",
       "   Urban_population   Latitude  Longitude  \n",
       "0       471031528.0  20.593684  78.962880  \n",
       "1       270663028.0  37.090240 -95.712891  \n",
       "2       270663028.0  37.090240 -95.712891  \n",
       "3       270663028.0  37.090240 -95.712891  \n",
       "4       471031528.0  20.593684  78.962880  \n",
       "\n",
       "[5 rows x 28 columns]"
      ]
     },
     "execution_count": 164,
     "metadata": {},
     "output_type": "execute_result"
    }
   ],
   "source": [
    "# 2. Виведіть перші п'ять рядків \n",
    "data.head()"
   ]
  },
  {
   "cell_type": "code",
   "execution_count": 165,
   "id": "1c5daecb",
   "metadata": {},
   "outputs": [
    {
     "name": "stdout",
     "output_type": "stream",
     "text": [
      "Кількість рядків датасету:  995\n",
      "Кількість стовбців датасету:  28\n",
      "\n",
      "\n",
      "Перевірка на наявність пропусків:\n"
     ]
    },
    {
     "data": {
      "text/plain": [
       "rank                                         0\n",
       "Youtuber                                     0\n",
       "subscribers                                  0\n",
       "video views                                  0\n",
       "category                                    46\n",
       "Title                                        0\n",
       "uploads                                      0\n",
       "Country                                    122\n",
       "Abbreviation                               122\n",
       "channel_type                                30\n",
       "video_views_rank                             1\n",
       "country_rank                               116\n",
       "channel_type_rank                           33\n",
       "video_views_for_the_last_30_days            56\n",
       "lowest_monthly_earnings                      0\n",
       "highest_monthly_earnings                     0\n",
       "lowest_yearly_earnings                       0\n",
       "highest_yearly_earnings                      0\n",
       "subscribers_for_last_30_days               337\n",
       "created_year                                 5\n",
       "created_month                                5\n",
       "created_date                                 5\n",
       "Gross tertiary education enrollment (%)    123\n",
       "Population                                 123\n",
       "Unemployment rate                          123\n",
       "Urban_population                           123\n",
       "Latitude                                   123\n",
       "Longitude                                  123\n",
       "dtype: int64"
      ]
     },
     "execution_count": 165,
     "metadata": {},
     "output_type": "execute_result"
    }
   ],
   "source": [
    "# 3. Виведіть розміри датасету, перевірте наявність пропусків, дублікатів. \n",
    "print(\"Кількість рядків датасету: \", data.shape[0])\n",
    "print(\"Кількість стовбців датасету: \", data.shape[1])\n",
    "print(\"\\n\")\n",
    "print(\"Перевірка на наявність пропусків:\")\n",
    "data.isna().sum()"
   ]
  },
  {
   "cell_type": "code",
   "execution_count": 166,
   "id": "cd816a7d",
   "metadata": {},
   "outputs": [
    {
     "name": "stdout",
     "output_type": "stream",
     "text": [
      "Перевірка на наявність дублікатів:\n",
      "Дублікатів у датасеті: 0\n"
     ]
    }
   ],
   "source": [
    "print(\"Перевірка на наявність дублікатів:\")\n",
    "print(\"Дублікатів у датасеті:\",  data.duplicated().sum())"
   ]
  },
  {
   "cell_type": "code",
   "execution_count": 167,
   "id": "b84a7c82",
   "metadata": {},
   "outputs": [
    {
     "data": {
      "text/html": [
       "<div>\n",
       "<style scoped>\n",
       "    .dataframe tbody tr th:only-of-type {\n",
       "        vertical-align: middle;\n",
       "    }\n",
       "\n",
       "    .dataframe tbody tr th {\n",
       "        vertical-align: top;\n",
       "    }\n",
       "\n",
       "    .dataframe thead th {\n",
       "        text-align: right;\n",
       "    }\n",
       "</style>\n",
       "<table border=\"1\" class=\"dataframe\">\n",
       "  <thead>\n",
       "    <tr style=\"text-align: right;\">\n",
       "      <th></th>\n",
       "      <th>rank</th>\n",
       "      <th>Youtuber</th>\n",
       "      <th>subscribers</th>\n",
       "      <th>video views</th>\n",
       "      <th>category</th>\n",
       "      <th>Title</th>\n",
       "      <th>uploads</th>\n",
       "      <th>Country</th>\n",
       "      <th>Abbreviation</th>\n",
       "      <th>channel_type</th>\n",
       "      <th>...</th>\n",
       "      <th>subscribers_for_last_30_days</th>\n",
       "      <th>created_year</th>\n",
       "      <th>created_month</th>\n",
       "      <th>created_date</th>\n",
       "      <th>Gross tertiary education enrollment (%)</th>\n",
       "      <th>Population</th>\n",
       "      <th>Unemployment rate</th>\n",
       "      <th>Urban_population</th>\n",
       "      <th>Latitude</th>\n",
       "      <th>Longitude</th>\n",
       "    </tr>\n",
       "  </thead>\n",
       "  <tbody>\n",
       "    <tr>\n",
       "      <th>0</th>\n",
       "      <td>1</td>\n",
       "      <td>T-Series</td>\n",
       "      <td>245000000</td>\n",
       "      <td>2.280000e+11</td>\n",
       "      <td>Music</td>\n",
       "      <td>T-Series</td>\n",
       "      <td>20082</td>\n",
       "      <td>India</td>\n",
       "      <td>IN</td>\n",
       "      <td>Music</td>\n",
       "      <td>...</td>\n",
       "      <td>2.000000e+06</td>\n",
       "      <td>2006.0</td>\n",
       "      <td>Mar</td>\n",
       "      <td>13.0</td>\n",
       "      <td>28.1</td>\n",
       "      <td>1.366418e+09</td>\n",
       "      <td>5.36</td>\n",
       "      <td>471031528.0</td>\n",
       "      <td>20.593684</td>\n",
       "      <td>78.962880</td>\n",
       "    </tr>\n",
       "    <tr>\n",
       "      <th>1</th>\n",
       "      <td>2</td>\n",
       "      <td>YouTube Movies</td>\n",
       "      <td>170000000</td>\n",
       "      <td>0.000000e+00</td>\n",
       "      <td>Film &amp; Animation</td>\n",
       "      <td>youtubemovies</td>\n",
       "      <td>1</td>\n",
       "      <td>United States</td>\n",
       "      <td>US</td>\n",
       "      <td>Games</td>\n",
       "      <td>...</td>\n",
       "      <td>3.490791e+05</td>\n",
       "      <td>2006.0</td>\n",
       "      <td>Mar</td>\n",
       "      <td>5.0</td>\n",
       "      <td>88.2</td>\n",
       "      <td>3.282395e+08</td>\n",
       "      <td>14.70</td>\n",
       "      <td>270663028.0</td>\n",
       "      <td>37.090240</td>\n",
       "      <td>-95.712891</td>\n",
       "    </tr>\n",
       "    <tr>\n",
       "      <th>2</th>\n",
       "      <td>3</td>\n",
       "      <td>MrBeast</td>\n",
       "      <td>166000000</td>\n",
       "      <td>2.836884e+10</td>\n",
       "      <td>Entertainment</td>\n",
       "      <td>MrBeast</td>\n",
       "      <td>741</td>\n",
       "      <td>United States</td>\n",
       "      <td>US</td>\n",
       "      <td>Entertainment</td>\n",
       "      <td>...</td>\n",
       "      <td>8.000000e+06</td>\n",
       "      <td>2012.0</td>\n",
       "      <td>Feb</td>\n",
       "      <td>20.0</td>\n",
       "      <td>88.2</td>\n",
       "      <td>3.282395e+08</td>\n",
       "      <td>14.70</td>\n",
       "      <td>270663028.0</td>\n",
       "      <td>37.090240</td>\n",
       "      <td>-95.712891</td>\n",
       "    </tr>\n",
       "    <tr>\n",
       "      <th>3</th>\n",
       "      <td>4</td>\n",
       "      <td>Cocomelon - Nursery Rhymes</td>\n",
       "      <td>162000000</td>\n",
       "      <td>1.640000e+11</td>\n",
       "      <td>Education</td>\n",
       "      <td>Cocomelon - Nursery Rhymes</td>\n",
       "      <td>966</td>\n",
       "      <td>United States</td>\n",
       "      <td>US</td>\n",
       "      <td>Education</td>\n",
       "      <td>...</td>\n",
       "      <td>1.000000e+06</td>\n",
       "      <td>2006.0</td>\n",
       "      <td>Sep</td>\n",
       "      <td>1.0</td>\n",
       "      <td>88.2</td>\n",
       "      <td>3.282395e+08</td>\n",
       "      <td>14.70</td>\n",
       "      <td>270663028.0</td>\n",
       "      <td>37.090240</td>\n",
       "      <td>-95.712891</td>\n",
       "    </tr>\n",
       "    <tr>\n",
       "      <th>4</th>\n",
       "      <td>5</td>\n",
       "      <td>SET India</td>\n",
       "      <td>159000000</td>\n",
       "      <td>1.480000e+11</td>\n",
       "      <td>Shows</td>\n",
       "      <td>SET India</td>\n",
       "      <td>116536</td>\n",
       "      <td>India</td>\n",
       "      <td>IN</td>\n",
       "      <td>Entertainment</td>\n",
       "      <td>...</td>\n",
       "      <td>1.000000e+06</td>\n",
       "      <td>2006.0</td>\n",
       "      <td>Sep</td>\n",
       "      <td>20.0</td>\n",
       "      <td>28.1</td>\n",
       "      <td>1.366418e+09</td>\n",
       "      <td>5.36</td>\n",
       "      <td>471031528.0</td>\n",
       "      <td>20.593684</td>\n",
       "      <td>78.962880</td>\n",
       "    </tr>\n",
       "    <tr>\n",
       "      <th>...</th>\n",
       "      <td>...</td>\n",
       "      <td>...</td>\n",
       "      <td>...</td>\n",
       "      <td>...</td>\n",
       "      <td>...</td>\n",
       "      <td>...</td>\n",
       "      <td>...</td>\n",
       "      <td>...</td>\n",
       "      <td>...</td>\n",
       "      <td>...</td>\n",
       "      <td>...</td>\n",
       "      <td>...</td>\n",
       "      <td>...</td>\n",
       "      <td>...</td>\n",
       "      <td>...</td>\n",
       "      <td>...</td>\n",
       "      <td>...</td>\n",
       "      <td>...</td>\n",
       "      <td>...</td>\n",
       "      <td>...</td>\n",
       "      <td>...</td>\n",
       "    </tr>\n",
       "    <tr>\n",
       "      <th>990</th>\n",
       "      <td>991</td>\n",
       "      <td>Natan por Aï¿</td>\n",
       "      <td>12300000</td>\n",
       "      <td>9.029610e+09</td>\n",
       "      <td>Sports</td>\n",
       "      <td>Natan por Aï¿</td>\n",
       "      <td>1200</td>\n",
       "      <td>Brazil</td>\n",
       "      <td>BR</td>\n",
       "      <td>Entertainment</td>\n",
       "      <td>...</td>\n",
       "      <td>7.000000e+05</td>\n",
       "      <td>2017.0</td>\n",
       "      <td>Feb</td>\n",
       "      <td>12.0</td>\n",
       "      <td>51.3</td>\n",
       "      <td>2.125594e+08</td>\n",
       "      <td>12.08</td>\n",
       "      <td>183241641.0</td>\n",
       "      <td>-14.235004</td>\n",
       "      <td>-51.925280</td>\n",
       "    </tr>\n",
       "    <tr>\n",
       "      <th>991</th>\n",
       "      <td>992</td>\n",
       "      <td>Free Fire India Official</td>\n",
       "      <td>12300000</td>\n",
       "      <td>1.674410e+09</td>\n",
       "      <td>People &amp; Blogs</td>\n",
       "      <td>Free Fire India Official</td>\n",
       "      <td>1500</td>\n",
       "      <td>India</td>\n",
       "      <td>IN</td>\n",
       "      <td>Games</td>\n",
       "      <td>...</td>\n",
       "      <td>3.000000e+05</td>\n",
       "      <td>2018.0</td>\n",
       "      <td>Sep</td>\n",
       "      <td>14.0</td>\n",
       "      <td>28.1</td>\n",
       "      <td>1.366418e+09</td>\n",
       "      <td>5.36</td>\n",
       "      <td>471031528.0</td>\n",
       "      <td>20.593684</td>\n",
       "      <td>78.962880</td>\n",
       "    </tr>\n",
       "    <tr>\n",
       "      <th>992</th>\n",
       "      <td>993</td>\n",
       "      <td>Panda</td>\n",
       "      <td>12300000</td>\n",
       "      <td>2.214684e+09</td>\n",
       "      <td>NaN</td>\n",
       "      <td>HybridPanda</td>\n",
       "      <td>2452</td>\n",
       "      <td>United Kingdom</td>\n",
       "      <td>GB</td>\n",
       "      <td>Games</td>\n",
       "      <td>...</td>\n",
       "      <td>1.000000e+03</td>\n",
       "      <td>2006.0</td>\n",
       "      <td>Sep</td>\n",
       "      <td>11.0</td>\n",
       "      <td>60.0</td>\n",
       "      <td>6.683440e+07</td>\n",
       "      <td>3.85</td>\n",
       "      <td>55908316.0</td>\n",
       "      <td>55.378051</td>\n",
       "      <td>-3.435973</td>\n",
       "    </tr>\n",
       "    <tr>\n",
       "      <th>993</th>\n",
       "      <td>994</td>\n",
       "      <td>RobTopGames</td>\n",
       "      <td>12300000</td>\n",
       "      <td>3.741235e+08</td>\n",
       "      <td>Gaming</td>\n",
       "      <td>RobTopGames</td>\n",
       "      <td>39</td>\n",
       "      <td>Sweden</td>\n",
       "      <td>SE</td>\n",
       "      <td>Games</td>\n",
       "      <td>...</td>\n",
       "      <td>1.000000e+05</td>\n",
       "      <td>2012.0</td>\n",
       "      <td>May</td>\n",
       "      <td>9.0</td>\n",
       "      <td>67.0</td>\n",
       "      <td>1.028545e+07</td>\n",
       "      <td>6.48</td>\n",
       "      <td>9021165.0</td>\n",
       "      <td>60.128161</td>\n",
       "      <td>18.643501</td>\n",
       "    </tr>\n",
       "    <tr>\n",
       "      <th>994</th>\n",
       "      <td>995</td>\n",
       "      <td>Make Joke Of</td>\n",
       "      <td>12300000</td>\n",
       "      <td>2.129774e+09</td>\n",
       "      <td>Comedy</td>\n",
       "      <td>Make Joke Of</td>\n",
       "      <td>62</td>\n",
       "      <td>India</td>\n",
       "      <td>IN</td>\n",
       "      <td>Comedy</td>\n",
       "      <td>...</td>\n",
       "      <td>1.000000e+05</td>\n",
       "      <td>2017.0</td>\n",
       "      <td>Aug</td>\n",
       "      <td>1.0</td>\n",
       "      <td>28.1</td>\n",
       "      <td>1.366418e+09</td>\n",
       "      <td>5.36</td>\n",
       "      <td>471031528.0</td>\n",
       "      <td>20.593684</td>\n",
       "      <td>78.962880</td>\n",
       "    </tr>\n",
       "  </tbody>\n",
       "</table>\n",
       "<p>995 rows × 28 columns</p>\n",
       "</div>"
      ],
      "text/plain": [
       "     rank                    Youtuber  subscribers   video views  \\\n",
       "0       1                    T-Series    245000000  2.280000e+11   \n",
       "1       2              YouTube Movies    170000000  0.000000e+00   \n",
       "2       3                     MrBeast    166000000  2.836884e+10   \n",
       "3       4  Cocomelon - Nursery Rhymes    162000000  1.640000e+11   \n",
       "4       5                   SET India    159000000  1.480000e+11   \n",
       "..    ...                         ...          ...           ...   \n",
       "990   991               Natan por Aï¿     12300000  9.029610e+09   \n",
       "991   992    Free Fire India Official     12300000  1.674410e+09   \n",
       "992   993                       Panda     12300000  2.214684e+09   \n",
       "993   994                 RobTopGames     12300000  3.741235e+08   \n",
       "994   995                Make Joke Of     12300000  2.129774e+09   \n",
       "\n",
       "             category                       Title  uploads         Country  \\\n",
       "0               Music                    T-Series    20082           India   \n",
       "1    Film & Animation               youtubemovies        1   United States   \n",
       "2       Entertainment                     MrBeast      741   United States   \n",
       "3           Education  Cocomelon - Nursery Rhymes      966   United States   \n",
       "4               Shows                   SET India   116536           India   \n",
       "..                ...                         ...      ...             ...   \n",
       "990            Sports               Natan por Aï¿     1200          Brazil   \n",
       "991    People & Blogs    Free Fire India Official     1500           India   \n",
       "992               NaN                 HybridPanda     2452  United Kingdom   \n",
       "993            Gaming                 RobTopGames       39          Sweden   \n",
       "994            Comedy                Make Joke Of       62           India   \n",
       "\n",
       "    Abbreviation   channel_type  ...  subscribers_for_last_30_days  \\\n",
       "0             IN          Music  ...                  2.000000e+06   \n",
       "1             US          Games  ...                  3.490791e+05   \n",
       "2             US  Entertainment  ...                  8.000000e+06   \n",
       "3             US      Education  ...                  1.000000e+06   \n",
       "4             IN  Entertainment  ...                  1.000000e+06   \n",
       "..           ...            ...  ...                           ...   \n",
       "990           BR  Entertainment  ...                  7.000000e+05   \n",
       "991           IN          Games  ...                  3.000000e+05   \n",
       "992           GB          Games  ...                  1.000000e+03   \n",
       "993           SE          Games  ...                  1.000000e+05   \n",
       "994           IN         Comedy  ...                  1.000000e+05   \n",
       "\n",
       "     created_year  created_month  created_date  \\\n",
       "0          2006.0            Mar          13.0   \n",
       "1          2006.0            Mar           5.0   \n",
       "2          2012.0            Feb          20.0   \n",
       "3          2006.0            Sep           1.0   \n",
       "4          2006.0            Sep          20.0   \n",
       "..            ...            ...           ...   \n",
       "990        2017.0            Feb          12.0   \n",
       "991        2018.0            Sep          14.0   \n",
       "992        2006.0            Sep          11.0   \n",
       "993        2012.0            May           9.0   \n",
       "994        2017.0            Aug           1.0   \n",
       "\n",
       "     Gross tertiary education enrollment (%)    Population  Unemployment rate  \\\n",
       "0                                       28.1  1.366418e+09               5.36   \n",
       "1                                       88.2  3.282395e+08              14.70   \n",
       "2                                       88.2  3.282395e+08              14.70   \n",
       "3                                       88.2  3.282395e+08              14.70   \n",
       "4                                       28.1  1.366418e+09               5.36   \n",
       "..                                       ...           ...                ...   \n",
       "990                                     51.3  2.125594e+08              12.08   \n",
       "991                                     28.1  1.366418e+09               5.36   \n",
       "992                                     60.0  6.683440e+07               3.85   \n",
       "993                                     67.0  1.028545e+07               6.48   \n",
       "994                                     28.1  1.366418e+09               5.36   \n",
       "\n",
       "     Urban_population   Latitude  Longitude  \n",
       "0         471031528.0  20.593684  78.962880  \n",
       "1         270663028.0  37.090240 -95.712891  \n",
       "2         270663028.0  37.090240 -95.712891  \n",
       "3         270663028.0  37.090240 -95.712891  \n",
       "4         471031528.0  20.593684  78.962880  \n",
       "..                ...        ...        ...  \n",
       "990       183241641.0 -14.235004 -51.925280  \n",
       "991       471031528.0  20.593684  78.962880  \n",
       "992        55908316.0  55.378051  -3.435973  \n",
       "993         9021165.0  60.128161  18.643501  \n",
       "994       471031528.0  20.593684  78.962880  \n",
       "\n",
       "[995 rows x 28 columns]"
      ]
     },
     "execution_count": 167,
     "metadata": {},
     "output_type": "execute_result"
    }
   ],
   "source": [
    "# 4. Якщо є пропуски, замінить тип даних на float і середнє значення за стовпцем.\n",
    "data.fillna({\n",
    "             \"video_views_rank\": data[\"video_views_rank\"].mean(), \n",
    "             \"country_rank\": data[\"country_rank\"].mean(), \n",
    "             \"channel_type_rank\": data[\"channel_type_rank\"].mean(), \n",
    "             \"video_views_for_the_last_30_days\": data[\"video_views_for_the_last_30_days\"].mean(), \n",
    "             \"subscribers_for_last_30_days\": data[\"subscribers_for_last_30_days\"].mean(), \n",
    "             \"created_year\": data[\"created_year\"].mean(), \n",
    "             \"created_date\": data[\"created_date\"].mean(), \n",
    "             \"Gross tertiary education enrollment (%)\": data[\"Gross tertiary education enrollment (%)\"].mean(), \n",
    "             \"Population\": data[\"Population\"].mean(), \n",
    "             \"Unemployment rate\": data[\"Unemployment rate\"].mean(), \n",
    "             \"Urban_population\": data[\"Urban_population\"].mean(), \n",
    "             \"Latitude\": data[\"Latitude\"].mean(), \n",
    "             \"Longitude\": data[\"Longitude\"].mean(),\n",
    "            }, inplace = True)\n",
    "data\n",
    "# У стовбцях category, Country, Abbreviation, channel_type та created_month дані мають текстовий хакактер та заміни на тип float не підлягають."
   ]
  },
  {
   "cell_type": "code",
   "execution_count": 168,
   "id": "7c7a3d86",
   "metadata": {},
   "outputs": [
    {
     "data": {
      "text/plain": [
       "rank                                         0\n",
       "Youtuber                                     0\n",
       "subscribers                                  0\n",
       "video views                                  0\n",
       "category                                    46\n",
       "Title                                        0\n",
       "uploads                                      0\n",
       "Country                                    122\n",
       "Abbreviation                               122\n",
       "channel_type                                30\n",
       "video_views_rank                             0\n",
       "country_rank                                 0\n",
       "channel_type_rank                            0\n",
       "video_views_for_the_last_30_days             0\n",
       "lowest_monthly_earnings                      0\n",
       "highest_monthly_earnings                     0\n",
       "lowest_yearly_earnings                       0\n",
       "highest_yearly_earnings                      0\n",
       "subscribers_for_last_30_days                 0\n",
       "created_year                                 0\n",
       "created_month                                5\n",
       "created_date                                 0\n",
       "Gross tertiary education enrollment (%)      0\n",
       "Population                                   0\n",
       "Unemployment rate                            0\n",
       "Urban_population                             0\n",
       "Latitude                                     0\n",
       "Longitude                                    0\n",
       "dtype: int64"
      ]
     },
     "execution_count": 168,
     "metadata": {},
     "output_type": "execute_result"
    }
   ],
   "source": [
    "# 5. Ще раз перевірте кількість пропусків.\n",
    "data.isna().sum()"
   ]
  },
  {
   "cell_type": "code",
   "execution_count": 169,
   "id": "9cffa21e",
   "metadata": {},
   "outputs": [
    {
     "name": "stdout",
     "output_type": "stream",
     "text": [
      "Кількість унікальних країн: 49\n"
     ]
    }
   ],
   "source": [
    "# 6. Перевірте, скільки унікальних країн представлено у колонці \"Country\"\n",
    "unique_countries = data[\"Country\"].nunique()\n",
    "print(\"Кількість унікальних країн:\", unique_countries)"
   ]
  },
  {
   "cell_type": "code",
   "execution_count": 170,
   "id": "41a4f900",
   "metadata": {},
   "outputs": [
    {
     "data": {
      "text/plain": [
       "<AxesSubplot:title={'center':'Розподіл переглядів'}, ylabel='Frequency'>"
      ]
     },
     "execution_count": 170,
     "metadata": {},
     "output_type": "execute_result"
    },
    {
     "data": {
      "image/png": "[encoded data removed]",
      "text/plain": [
       "<Figure size 936x1080 with 1 Axes>"
      ]
     },
     "metadata": {},
     "output_type": "display_data"
    }
   ],
   "source": [
    "# 7. Побудуйте діаграму розподілу переглядів (використовуйте kind='hist'):\n",
    "data['video views'].plot(kind='hist', title='Розподіл переглядів')"
   ]
  },
  {
   "cell_type": "code",
   "execution_count": 171,
   "id": "8a8ee11d",
   "metadata": {},
   "outputs": [
    {
     "name": "stdout",
     "output_type": "stream",
     "text": [
      "Максимальна кількість переглядів: 228000000000.0\n",
      "Мінімальна кількість переглядів: 0.0\n",
      "Середня кількість переглядів: 11039537052.03819\n"
     ]
    }
   ],
   "source": [
    "# 8. Визначте максимальну, мінімальну, середню кількість переглядів (використовуйте методи max, min, mean)\n",
    "max_views = data[\"video views\"].max()\n",
    "min_views = data[\"video views\"].min()\n",
    "mean_views = data[\"video views\"].mean()\n",
    "print(\"Максимальна кількість переглядів:\", max_views)\n",
    "print(\"Мінімальна кількість переглядів:\", min_views)\n",
    "print(\"Середня кількість переглядів:\", mean_views)"
   ]
  },
  {
   "cell_type": "code",
   "execution_count": 172,
   "id": "1cf8565e",
   "metadata": {},
   "outputs": [
    {
     "name": "stdout",
     "output_type": "stream",
     "text": [
      "Країна з найбільшою кількістю відео: United States\n"
     ]
    }
   ],
   "source": [
    "# 9. Знайдіть країну, де найбільше відео було завантажено на YouTube\n",
    "most_videos_country = data[\"Country\"].value_counts().idxmax()\n",
    "print(\"Країна з найбільшою кількістю відео:\", most_videos_country)"
   ]
  },
  {
   "cell_type": "code",
   "execution_count": 173,
   "id": "c8218622",
   "metadata": {},
   "outputs": [
    {
     "name": "stdout",
     "output_type": "stream",
     "text": [
      "Відео з найбільшою кількістю завантажень: ABP NEWS\n",
      "Відео з найменшою кількістю завантажень: Music\n"
     ]
    }
   ],
   "source": [
    "# 10. Знайдіть відео (виведіть його назву) з найбільшою та найменшою кількістю завантажень uploads. \n",
    "# Знайти відео з найбільшою кількістю завантажень\n",
    "video_with_most_views = data.loc[data['uploads'].idxmax()]\n",
    "most_views_title = video_with_most_views['Title']\n",
    "# Знайти відео з найменшою кількістю завантажень\n",
    "video_with_least_views = data.loc[data['uploads'].idxmin()]\n",
    "least_views_title = video_with_least_views['Title']\n",
    "\n",
    "print(\"Відео з найбільшою кількістю завантажень:\", most_views_title)\n",
    "print(\"Відео з найменшою кількістю завантажень:\", least_views_title)"
   ]
  },
  {
   "cell_type": "markdown",
   "id": "45600b27",
   "metadata": {},
   "source": [
    "Завдання №2"
   ]
  },
  {
   "cell_type": "markdown",
   "id": "a44597c7",
   "metadata": {},
   "source": [
    "Зчитати архів Customer Shopping Trends Dataset "
   ]
  },
  {
   "cell_type": "code",
   "execution_count": 174,
   "id": "aa9801f5",
   "metadata": {},
   "outputs": [],
   "source": [
    "import seaborn as sns\n",
    "import matplotlib.pyplot as plt"
   ]
  },
  {
   "cell_type": "code",
   "execution_count": 175,
   "id": "a8ceb83d",
   "metadata": {},
   "outputs": [
    {
     "data": {
      "text/html": [
       "<div>\n",
       "<style scoped>\n",
       "    .dataframe tbody tr th:only-of-type {\n",
       "        vertical-align: middle;\n",
       "    }\n",
       "\n",
       "    .dataframe tbody tr th {\n",
       "        vertical-align: top;\n",
       "    }\n",
       "\n",
       "    .dataframe thead th {\n",
       "        text-align: right;\n",
       "    }\n",
       "</style>\n",
       "<table border=\"1\" class=\"dataframe\">\n",
       "  <thead>\n",
       "    <tr style=\"text-align: right;\">\n",
       "      <th></th>\n",
       "      <th>Customer ID</th>\n",
       "      <th>Age</th>\n",
       "      <th>Gender</th>\n",
       "      <th>Item Purchased</th>\n",
       "      <th>Category</th>\n",
       "      <th>Purchase Amount (USD)</th>\n",
       "      <th>Location</th>\n",
       "      <th>Size</th>\n",
       "      <th>Color</th>\n",
       "      <th>Season</th>\n",
       "      <th>Review Rating</th>\n",
       "      <th>Subscription Status</th>\n",
       "      <th>Payment Method</th>\n",
       "      <th>Shipping Type</th>\n",
       "      <th>Discount Applied</th>\n",
       "      <th>Promo Code Used</th>\n",
       "      <th>Previous Purchases</th>\n",
       "      <th>Preferred Payment Method</th>\n",
       "      <th>Frequency of Purchases</th>\n",
       "    </tr>\n",
       "  </thead>\n",
       "  <tbody>\n",
       "    <tr>\n",
       "      <th>0</th>\n",
       "      <td>1</td>\n",
       "      <td>55</td>\n",
       "      <td>Male</td>\n",
       "      <td>Blouse</td>\n",
       "      <td>Clothing</td>\n",
       "      <td>53</td>\n",
       "      <td>Kentucky</td>\n",
       "      <td>L</td>\n",
       "      <td>Gray</td>\n",
       "      <td>Winter</td>\n",
       "      <td>3.1</td>\n",
       "      <td>Yes</td>\n",
       "      <td>Credit Card</td>\n",
       "      <td>Express</td>\n",
       "      <td>Yes</td>\n",
       "      <td>Yes</td>\n",
       "      <td>14</td>\n",
       "      <td>Venmo</td>\n",
       "      <td>Fortnightly</td>\n",
       "    </tr>\n",
       "    <tr>\n",
       "      <th>1</th>\n",
       "      <td>2</td>\n",
       "      <td>19</td>\n",
       "      <td>Male</td>\n",
       "      <td>Sweater</td>\n",
       "      <td>Clothing</td>\n",
       "      <td>64</td>\n",
       "      <td>Maine</td>\n",
       "      <td>L</td>\n",
       "      <td>Maroon</td>\n",
       "      <td>Winter</td>\n",
       "      <td>3.1</td>\n",
       "      <td>Yes</td>\n",
       "      <td>Bank Transfer</td>\n",
       "      <td>Express</td>\n",
       "      <td>Yes</td>\n",
       "      <td>Yes</td>\n",
       "      <td>2</td>\n",
       "      <td>Cash</td>\n",
       "      <td>Fortnightly</td>\n",
       "    </tr>\n",
       "    <tr>\n",
       "      <th>2</th>\n",
       "      <td>3</td>\n",
       "      <td>50</td>\n",
       "      <td>Male</td>\n",
       "      <td>Jeans</td>\n",
       "      <td>Clothing</td>\n",
       "      <td>73</td>\n",
       "      <td>Massachusetts</td>\n",
       "      <td>S</td>\n",
       "      <td>Maroon</td>\n",
       "      <td>Spring</td>\n",
       "      <td>3.1</td>\n",
       "      <td>Yes</td>\n",
       "      <td>Cash</td>\n",
       "      <td>Free Shipping</td>\n",
       "      <td>Yes</td>\n",
       "      <td>Yes</td>\n",
       "      <td>23</td>\n",
       "      <td>Credit Card</td>\n",
       "      <td>Weekly</td>\n",
       "    </tr>\n",
       "    <tr>\n",
       "      <th>3</th>\n",
       "      <td>4</td>\n",
       "      <td>21</td>\n",
       "      <td>Male</td>\n",
       "      <td>Sandals</td>\n",
       "      <td>Footwear</td>\n",
       "      <td>90</td>\n",
       "      <td>Rhode Island</td>\n",
       "      <td>M</td>\n",
       "      <td>Maroon</td>\n",
       "      <td>Spring</td>\n",
       "      <td>3.5</td>\n",
       "      <td>Yes</td>\n",
       "      <td>PayPal</td>\n",
       "      <td>Next Day Air</td>\n",
       "      <td>Yes</td>\n",
       "      <td>Yes</td>\n",
       "      <td>49</td>\n",
       "      <td>PayPal</td>\n",
       "      <td>Weekly</td>\n",
       "    </tr>\n",
       "    <tr>\n",
       "      <th>4</th>\n",
       "      <td>5</td>\n",
       "      <td>45</td>\n",
       "      <td>Male</td>\n",
       "      <td>Blouse</td>\n",
       "      <td>Clothing</td>\n",
       "      <td>49</td>\n",
       "      <td>Oregon</td>\n",
       "      <td>M</td>\n",
       "      <td>Turquoise</td>\n",
       "      <td>Spring</td>\n",
       "      <td>2.7</td>\n",
       "      <td>Yes</td>\n",
       "      <td>Cash</td>\n",
       "      <td>Free Shipping</td>\n",
       "      <td>Yes</td>\n",
       "      <td>Yes</td>\n",
       "      <td>31</td>\n",
       "      <td>PayPal</td>\n",
       "      <td>Annually</td>\n",
       "    </tr>\n",
       "    <tr>\n",
       "      <th>...</th>\n",
       "      <td>...</td>\n",
       "      <td>...</td>\n",
       "      <td>...</td>\n",
       "      <td>...</td>\n",
       "      <td>...</td>\n",
       "      <td>...</td>\n",
       "      <td>...</td>\n",
       "      <td>...</td>\n",
       "      <td>...</td>\n",
       "      <td>...</td>\n",
       "      <td>...</td>\n",
       "      <td>...</td>\n",
       "      <td>...</td>\n",
       "      <td>...</td>\n",
       "      <td>...</td>\n",
       "      <td>...</td>\n",
       "      <td>...</td>\n",
       "      <td>...</td>\n",
       "      <td>...</td>\n",
       "    </tr>\n",
       "    <tr>\n",
       "      <th>3895</th>\n",
       "      <td>3896</td>\n",
       "      <td>40</td>\n",
       "      <td>Female</td>\n",
       "      <td>Hoodie</td>\n",
       "      <td>Clothing</td>\n",
       "      <td>28</td>\n",
       "      <td>Virginia</td>\n",
       "      <td>L</td>\n",
       "      <td>Turquoise</td>\n",
       "      <td>Summer</td>\n",
       "      <td>4.2</td>\n",
       "      <td>No</td>\n",
       "      <td>Cash</td>\n",
       "      <td>2-Day Shipping</td>\n",
       "      <td>No</td>\n",
       "      <td>No</td>\n",
       "      <td>32</td>\n",
       "      <td>Venmo</td>\n",
       "      <td>Weekly</td>\n",
       "    </tr>\n",
       "    <tr>\n",
       "      <th>3896</th>\n",
       "      <td>3897</td>\n",
       "      <td>52</td>\n",
       "      <td>Female</td>\n",
       "      <td>Backpack</td>\n",
       "      <td>Accessories</td>\n",
       "      <td>49</td>\n",
       "      <td>Iowa</td>\n",
       "      <td>L</td>\n",
       "      <td>White</td>\n",
       "      <td>Spring</td>\n",
       "      <td>4.5</td>\n",
       "      <td>No</td>\n",
       "      <td>PayPal</td>\n",
       "      <td>Store Pickup</td>\n",
       "      <td>No</td>\n",
       "      <td>No</td>\n",
       "      <td>41</td>\n",
       "      <td>Bank Transfer</td>\n",
       "      <td>Bi-Weekly</td>\n",
       "    </tr>\n",
       "    <tr>\n",
       "      <th>3897</th>\n",
       "      <td>3898</td>\n",
       "      <td>46</td>\n",
       "      <td>Female</td>\n",
       "      <td>Belt</td>\n",
       "      <td>Accessories</td>\n",
       "      <td>33</td>\n",
       "      <td>New Jersey</td>\n",
       "      <td>L</td>\n",
       "      <td>Green</td>\n",
       "      <td>Spring</td>\n",
       "      <td>2.9</td>\n",
       "      <td>No</td>\n",
       "      <td>Credit Card</td>\n",
       "      <td>Standard</td>\n",
       "      <td>No</td>\n",
       "      <td>No</td>\n",
       "      <td>24</td>\n",
       "      <td>Venmo</td>\n",
       "      <td>Quarterly</td>\n",
       "    </tr>\n",
       "    <tr>\n",
       "      <th>3898</th>\n",
       "      <td>3899</td>\n",
       "      <td>44</td>\n",
       "      <td>Female</td>\n",
       "      <td>Shoes</td>\n",
       "      <td>Footwear</td>\n",
       "      <td>77</td>\n",
       "      <td>Minnesota</td>\n",
       "      <td>S</td>\n",
       "      <td>Brown</td>\n",
       "      <td>Summer</td>\n",
       "      <td>3.8</td>\n",
       "      <td>No</td>\n",
       "      <td>PayPal</td>\n",
       "      <td>Express</td>\n",
       "      <td>No</td>\n",
       "      <td>No</td>\n",
       "      <td>24</td>\n",
       "      <td>Venmo</td>\n",
       "      <td>Weekly</td>\n",
       "    </tr>\n",
       "    <tr>\n",
       "      <th>3899</th>\n",
       "      <td>3900</td>\n",
       "      <td>52</td>\n",
       "      <td>Female</td>\n",
       "      <td>Handbag</td>\n",
       "      <td>Accessories</td>\n",
       "      <td>81</td>\n",
       "      <td>California</td>\n",
       "      <td>M</td>\n",
       "      <td>Beige</td>\n",
       "      <td>Spring</td>\n",
       "      <td>3.1</td>\n",
       "      <td>No</td>\n",
       "      <td>Bank Transfer</td>\n",
       "      <td>Store Pickup</td>\n",
       "      <td>No</td>\n",
       "      <td>No</td>\n",
       "      <td>33</td>\n",
       "      <td>Venmo</td>\n",
       "      <td>Quarterly</td>\n",
       "    </tr>\n",
       "  </tbody>\n",
       "</table>\n",
       "<p>3900 rows × 19 columns</p>\n",
       "</div>"
      ],
      "text/plain": [
       "      Customer ID  Age  Gender Item Purchased     Category  \\\n",
       "0               1   55    Male         Blouse     Clothing   \n",
       "1               2   19    Male        Sweater     Clothing   \n",
       "2               3   50    Male          Jeans     Clothing   \n",
       "3               4   21    Male        Sandals     Footwear   \n",
       "4               5   45    Male         Blouse     Clothing   \n",
       "...           ...  ...     ...            ...          ...   \n",
       "3895         3896   40  Female         Hoodie     Clothing   \n",
       "3896         3897   52  Female       Backpack  Accessories   \n",
       "3897         3898   46  Female           Belt  Accessories   \n",
       "3898         3899   44  Female          Shoes     Footwear   \n",
       "3899         3900   52  Female        Handbag  Accessories   \n",
       "\n",
       "      Purchase Amount (USD)       Location Size      Color  Season  \\\n",
       "0                        53       Kentucky    L       Gray  Winter   \n",
       "1                        64          Maine    L     Maroon  Winter   \n",
       "2                        73  Massachusetts    S     Maroon  Spring   \n",
       "3                        90   Rhode Island    M     Maroon  Spring   \n",
       "4                        49         Oregon    M  Turquoise  Spring   \n",
       "...                     ...            ...  ...        ...     ...   \n",
       "3895                     28       Virginia    L  Turquoise  Summer   \n",
       "3896                     49           Iowa    L      White  Spring   \n",
       "3897                     33     New Jersey    L      Green  Spring   \n",
       "3898                     77      Minnesota    S      Brown  Summer   \n",
       "3899                     81     California    M      Beige  Spring   \n",
       "\n",
       "      Review Rating Subscription Status Payment Method   Shipping Type  \\\n",
       "0               3.1                 Yes    Credit Card         Express   \n",
       "1               3.1                 Yes  Bank Transfer         Express   \n",
       "2               3.1                 Yes           Cash   Free Shipping   \n",
       "3               3.5                 Yes         PayPal    Next Day Air   \n",
       "4               2.7                 Yes           Cash   Free Shipping   \n",
       "...             ...                 ...            ...             ...   \n",
       "3895            4.2                  No           Cash  2-Day Shipping   \n",
       "3896            4.5                  No         PayPal    Store Pickup   \n",
       "3897            2.9                  No    Credit Card        Standard   \n",
       "3898            3.8                  No         PayPal         Express   \n",
       "3899            3.1                  No  Bank Transfer    Store Pickup   \n",
       "\n",
       "     Discount Applied Promo Code Used  Previous Purchases  \\\n",
       "0                 Yes             Yes                  14   \n",
       "1                 Yes             Yes                   2   \n",
       "2                 Yes             Yes                  23   \n",
       "3                 Yes             Yes                  49   \n",
       "4                 Yes             Yes                  31   \n",
       "...               ...             ...                 ...   \n",
       "3895               No              No                  32   \n",
       "3896               No              No                  41   \n",
       "3897               No              No                  24   \n",
       "3898               No              No                  24   \n",
       "3899               No              No                  33   \n",
       "\n",
       "     Preferred Payment Method Frequency of Purchases  \n",
       "0                       Venmo            Fortnightly  \n",
       "1                        Cash            Fortnightly  \n",
       "2                 Credit Card                 Weekly  \n",
       "3                      PayPal                 Weekly  \n",
       "4                      PayPal               Annually  \n",
       "...                       ...                    ...  \n",
       "3895                    Venmo                 Weekly  \n",
       "3896            Bank Transfer              Bi-Weekly  \n",
       "3897                    Venmo              Quarterly  \n",
       "3898                    Venmo                 Weekly  \n",
       "3899                    Venmo              Quarterly  \n",
       "\n",
       "[3900 rows x 19 columns]"
      ]
     },
     "execution_count": 175,
     "metadata": {},
     "output_type": "execute_result"
    }
   ],
   "source": [
    "data = pd.read_csv(\"shopping_trends.csv\", encoding = \"latin1\")\n",
    "data"
   ]
  },
  {
   "cell_type": "code",
   "execution_count": 176,
   "id": "69e16e96",
   "metadata": {},
   "outputs": [
    {
     "name": "stdout",
     "output_type": "stream",
     "text": [
      "Кількість рядків датасету:  3900\n",
      "Кількість стовбців датасету:  19\n",
      "\n",
      "\n",
      "Перевірка на наявність пропусків:\n"
     ]
    },
    {
     "data": {
      "text/plain": [
       "Customer ID                 0\n",
       "Age                         0\n",
       "Gender                      0\n",
       "Item Purchased              0\n",
       "Category                    0\n",
       "Purchase Amount (USD)       0\n",
       "Location                    0\n",
       "Size                        0\n",
       "Color                       0\n",
       "Season                      0\n",
       "Review Rating               0\n",
       "Subscription Status         0\n",
       "Payment Method              0\n",
       "Shipping Type               0\n",
       "Discount Applied            0\n",
       "Promo Code Used             0\n",
       "Previous Purchases          0\n",
       "Preferred Payment Method    0\n",
       "Frequency of Purchases      0\n",
       "dtype: int64"
      ]
     },
     "execution_count": 176,
     "metadata": {},
     "output_type": "execute_result"
    }
   ],
   "source": [
    "print(\"Кількість рядків датасету: \", data.shape[0])\n",
    "print(\"Кількість стовбців датасету: \", data.shape[1])\n",
    "print(\"\\n\")\n",
    "print(\"Перевірка на наявність пропусків:\")\n",
    "data.isna().sum()"
   ]
  },
  {
   "cell_type": "code",
   "execution_count": 177,
   "id": "4d74c3b4",
   "metadata": {},
   "outputs": [
    {
     "data": {
      "text/plain": [
       "Customer ID                   int64\n",
       "Age                           int64\n",
       "Gender                       object\n",
       "Item Purchased               object\n",
       "Category                     object\n",
       "Purchase Amount (USD)         int64\n",
       "Location                     object\n",
       "Size                         object\n",
       "Color                        object\n",
       "Season                       object\n",
       "Review Rating               float64\n",
       "Subscription Status          object\n",
       "Payment Method               object\n",
       "Shipping Type                object\n",
       "Discount Applied             object\n",
       "Promo Code Used              object\n",
       "Previous Purchases            int64\n",
       "Preferred Payment Method     object\n",
       "Frequency of Purchases       object\n",
       "dtype: object"
      ]
     },
     "execution_count": 177,
     "metadata": {},
     "output_type": "execute_result"
    }
   ],
   "source": [
    "data.dtypes"
   ]
  },
  {
   "cell_type": "code",
   "execution_count": 178,
   "id": "58a682d2",
   "metadata": {},
   "outputs": [
    {
     "data": {
      "text/html": [
       "<div>\n",
       "<style scoped>\n",
       "    .dataframe tbody tr th:only-of-type {\n",
       "        vertical-align: middle;\n",
       "    }\n",
       "\n",
       "    .dataframe tbody tr th {\n",
       "        vertical-align: top;\n",
       "    }\n",
       "\n",
       "    .dataframe thead th {\n",
       "        text-align: right;\n",
       "    }\n",
       "</style>\n",
       "<table border=\"1\" class=\"dataframe\">\n",
       "  <thead>\n",
       "    <tr style=\"text-align: right;\">\n",
       "      <th></th>\n",
       "      <th>customer_id</th>\n",
       "      <th>age</th>\n",
       "      <th>gender</th>\n",
       "      <th>item_purchased</th>\n",
       "      <th>category</th>\n",
       "      <th>purchase_amount_usd</th>\n",
       "      <th>location</th>\n",
       "      <th>size</th>\n",
       "      <th>color</th>\n",
       "      <th>season</th>\n",
       "      <th>review_rating</th>\n",
       "      <th>subscription_status</th>\n",
       "      <th>payment_method</th>\n",
       "      <th>shipping_type</th>\n",
       "      <th>discount_applied</th>\n",
       "      <th>promo_code_used</th>\n",
       "      <th>previous_purchases</th>\n",
       "      <th>preferred_payment_method</th>\n",
       "      <th>frequency_of_purchases</th>\n",
       "    </tr>\n",
       "  </thead>\n",
       "  <tbody>\n",
       "    <tr>\n",
       "      <th>0</th>\n",
       "      <td>1</td>\n",
       "      <td>55</td>\n",
       "      <td>Male</td>\n",
       "      <td>Blouse</td>\n",
       "      <td>Clothing</td>\n",
       "      <td>53</td>\n",
       "      <td>Kentucky</td>\n",
       "      <td>L</td>\n",
       "      <td>Gray</td>\n",
       "      <td>Winter</td>\n",
       "      <td>3.1</td>\n",
       "      <td>Yes</td>\n",
       "      <td>Credit Card</td>\n",
       "      <td>Express</td>\n",
       "      <td>Yes</td>\n",
       "      <td>Yes</td>\n",
       "      <td>14</td>\n",
       "      <td>Venmo</td>\n",
       "      <td>Fortnightly</td>\n",
       "    </tr>\n",
       "    <tr>\n",
       "      <th>1</th>\n",
       "      <td>2</td>\n",
       "      <td>19</td>\n",
       "      <td>Male</td>\n",
       "      <td>Sweater</td>\n",
       "      <td>Clothing</td>\n",
       "      <td>64</td>\n",
       "      <td>Maine</td>\n",
       "      <td>L</td>\n",
       "      <td>Maroon</td>\n",
       "      <td>Winter</td>\n",
       "      <td>3.1</td>\n",
       "      <td>Yes</td>\n",
       "      <td>Bank Transfer</td>\n",
       "      <td>Express</td>\n",
       "      <td>Yes</td>\n",
       "      <td>Yes</td>\n",
       "      <td>2</td>\n",
       "      <td>Cash</td>\n",
       "      <td>Fortnightly</td>\n",
       "    </tr>\n",
       "    <tr>\n",
       "      <th>2</th>\n",
       "      <td>3</td>\n",
       "      <td>50</td>\n",
       "      <td>Male</td>\n",
       "      <td>Jeans</td>\n",
       "      <td>Clothing</td>\n",
       "      <td>73</td>\n",
       "      <td>Massachusetts</td>\n",
       "      <td>S</td>\n",
       "      <td>Maroon</td>\n",
       "      <td>Spring</td>\n",
       "      <td>3.1</td>\n",
       "      <td>Yes</td>\n",
       "      <td>Cash</td>\n",
       "      <td>Free Shipping</td>\n",
       "      <td>Yes</td>\n",
       "      <td>Yes</td>\n",
       "      <td>23</td>\n",
       "      <td>Credit Card</td>\n",
       "      <td>Weekly</td>\n",
       "    </tr>\n",
       "    <tr>\n",
       "      <th>3</th>\n",
       "      <td>4</td>\n",
       "      <td>21</td>\n",
       "      <td>Male</td>\n",
       "      <td>Sandals</td>\n",
       "      <td>Footwear</td>\n",
       "      <td>90</td>\n",
       "      <td>Rhode Island</td>\n",
       "      <td>M</td>\n",
       "      <td>Maroon</td>\n",
       "      <td>Spring</td>\n",
       "      <td>3.5</td>\n",
       "      <td>Yes</td>\n",
       "      <td>PayPal</td>\n",
       "      <td>Next Day Air</td>\n",
       "      <td>Yes</td>\n",
       "      <td>Yes</td>\n",
       "      <td>49</td>\n",
       "      <td>PayPal</td>\n",
       "      <td>Weekly</td>\n",
       "    </tr>\n",
       "    <tr>\n",
       "      <th>4</th>\n",
       "      <td>5</td>\n",
       "      <td>45</td>\n",
       "      <td>Male</td>\n",
       "      <td>Blouse</td>\n",
       "      <td>Clothing</td>\n",
       "      <td>49</td>\n",
       "      <td>Oregon</td>\n",
       "      <td>M</td>\n",
       "      <td>Turquoise</td>\n",
       "      <td>Spring</td>\n",
       "      <td>2.7</td>\n",
       "      <td>Yes</td>\n",
       "      <td>Cash</td>\n",
       "      <td>Free Shipping</td>\n",
       "      <td>Yes</td>\n",
       "      <td>Yes</td>\n",
       "      <td>31</td>\n",
       "      <td>PayPal</td>\n",
       "      <td>Annually</td>\n",
       "    </tr>\n",
       "    <tr>\n",
       "      <th>...</th>\n",
       "      <td>...</td>\n",
       "      <td>...</td>\n",
       "      <td>...</td>\n",
       "      <td>...</td>\n",
       "      <td>...</td>\n",
       "      <td>...</td>\n",
       "      <td>...</td>\n",
       "      <td>...</td>\n",
       "      <td>...</td>\n",
       "      <td>...</td>\n",
       "      <td>...</td>\n",
       "      <td>...</td>\n",
       "      <td>...</td>\n",
       "      <td>...</td>\n",
       "      <td>...</td>\n",
       "      <td>...</td>\n",
       "      <td>...</td>\n",
       "      <td>...</td>\n",
       "      <td>...</td>\n",
       "    </tr>\n",
       "    <tr>\n",
       "      <th>3895</th>\n",
       "      <td>3896</td>\n",
       "      <td>40</td>\n",
       "      <td>Female</td>\n",
       "      <td>Hoodie</td>\n",
       "      <td>Clothing</td>\n",
       "      <td>28</td>\n",
       "      <td>Virginia</td>\n",
       "      <td>L</td>\n",
       "      <td>Turquoise</td>\n",
       "      <td>Summer</td>\n",
       "      <td>4.2</td>\n",
       "      <td>No</td>\n",
       "      <td>Cash</td>\n",
       "      <td>2-Day Shipping</td>\n",
       "      <td>No</td>\n",
       "      <td>No</td>\n",
       "      <td>32</td>\n",
       "      <td>Venmo</td>\n",
       "      <td>Weekly</td>\n",
       "    </tr>\n",
       "    <tr>\n",
       "      <th>3896</th>\n",
       "      <td>3897</td>\n",
       "      <td>52</td>\n",
       "      <td>Female</td>\n",
       "      <td>Backpack</td>\n",
       "      <td>Accessories</td>\n",
       "      <td>49</td>\n",
       "      <td>Iowa</td>\n",
       "      <td>L</td>\n",
       "      <td>White</td>\n",
       "      <td>Spring</td>\n",
       "      <td>4.5</td>\n",
       "      <td>No</td>\n",
       "      <td>PayPal</td>\n",
       "      <td>Store Pickup</td>\n",
       "      <td>No</td>\n",
       "      <td>No</td>\n",
       "      <td>41</td>\n",
       "      <td>Bank Transfer</td>\n",
       "      <td>Bi-Weekly</td>\n",
       "    </tr>\n",
       "    <tr>\n",
       "      <th>3897</th>\n",
       "      <td>3898</td>\n",
       "      <td>46</td>\n",
       "      <td>Female</td>\n",
       "      <td>Belt</td>\n",
       "      <td>Accessories</td>\n",
       "      <td>33</td>\n",
       "      <td>New Jersey</td>\n",
       "      <td>L</td>\n",
       "      <td>Green</td>\n",
       "      <td>Spring</td>\n",
       "      <td>2.9</td>\n",
       "      <td>No</td>\n",
       "      <td>Credit Card</td>\n",
       "      <td>Standard</td>\n",
       "      <td>No</td>\n",
       "      <td>No</td>\n",
       "      <td>24</td>\n",
       "      <td>Venmo</td>\n",
       "      <td>Quarterly</td>\n",
       "    </tr>\n",
       "    <tr>\n",
       "      <th>3898</th>\n",
       "      <td>3899</td>\n",
       "      <td>44</td>\n",
       "      <td>Female</td>\n",
       "      <td>Shoes</td>\n",
       "      <td>Footwear</td>\n",
       "      <td>77</td>\n",
       "      <td>Minnesota</td>\n",
       "      <td>S</td>\n",
       "      <td>Brown</td>\n",
       "      <td>Summer</td>\n",
       "      <td>3.8</td>\n",
       "      <td>No</td>\n",
       "      <td>PayPal</td>\n",
       "      <td>Express</td>\n",
       "      <td>No</td>\n",
       "      <td>No</td>\n",
       "      <td>24</td>\n",
       "      <td>Venmo</td>\n",
       "      <td>Weekly</td>\n",
       "    </tr>\n",
       "    <tr>\n",
       "      <th>3899</th>\n",
       "      <td>3900</td>\n",
       "      <td>52</td>\n",
       "      <td>Female</td>\n",
       "      <td>Handbag</td>\n",
       "      <td>Accessories</td>\n",
       "      <td>81</td>\n",
       "      <td>California</td>\n",
       "      <td>M</td>\n",
       "      <td>Beige</td>\n",
       "      <td>Spring</td>\n",
       "      <td>3.1</td>\n",
       "      <td>No</td>\n",
       "      <td>Bank Transfer</td>\n",
       "      <td>Store Pickup</td>\n",
       "      <td>No</td>\n",
       "      <td>No</td>\n",
       "      <td>33</td>\n",
       "      <td>Venmo</td>\n",
       "      <td>Quarterly</td>\n",
       "    </tr>\n",
       "  </tbody>\n",
       "</table>\n",
       "<p>3900 rows × 19 columns</p>\n",
       "</div>"
      ],
      "text/plain": [
       "      customer_id  age  gender item_purchased     category  \\\n",
       "0               1   55    Male         Blouse     Clothing   \n",
       "1               2   19    Male        Sweater     Clothing   \n",
       "2               3   50    Male          Jeans     Clothing   \n",
       "3               4   21    Male        Sandals     Footwear   \n",
       "4               5   45    Male         Blouse     Clothing   \n",
       "...           ...  ...     ...            ...          ...   \n",
       "3895         3896   40  Female         Hoodie     Clothing   \n",
       "3896         3897   52  Female       Backpack  Accessories   \n",
       "3897         3898   46  Female           Belt  Accessories   \n",
       "3898         3899   44  Female          Shoes     Footwear   \n",
       "3899         3900   52  Female        Handbag  Accessories   \n",
       "\n",
       "      purchase_amount_usd       location size      color  season  \\\n",
       "0                      53       Kentucky    L       Gray  Winter   \n",
       "1                      64          Maine    L     Maroon  Winter   \n",
       "2                      73  Massachusetts    S     Maroon  Spring   \n",
       "3                      90   Rhode Island    M     Maroon  Spring   \n",
       "4                      49         Oregon    M  Turquoise  Spring   \n",
       "...                   ...            ...  ...        ...     ...   \n",
       "3895                   28       Virginia    L  Turquoise  Summer   \n",
       "3896                   49           Iowa    L      White  Spring   \n",
       "3897                   33     New Jersey    L      Green  Spring   \n",
       "3898                   77      Minnesota    S      Brown  Summer   \n",
       "3899                   81     California    M      Beige  Spring   \n",
       "\n",
       "      review_rating subscription_status payment_method   shipping_type  \\\n",
       "0               3.1                 Yes    Credit Card         Express   \n",
       "1               3.1                 Yes  Bank Transfer         Express   \n",
       "2               3.1                 Yes           Cash   Free Shipping   \n",
       "3               3.5                 Yes         PayPal    Next Day Air   \n",
       "4               2.7                 Yes           Cash   Free Shipping   \n",
       "...             ...                 ...            ...             ...   \n",
       "3895            4.2                  No           Cash  2-Day Shipping   \n",
       "3896            4.5                  No         PayPal    Store Pickup   \n",
       "3897            2.9                  No    Credit Card        Standard   \n",
       "3898            3.8                  No         PayPal         Express   \n",
       "3899            3.1                  No  Bank Transfer    Store Pickup   \n",
       "\n",
       "     discount_applied promo_code_used  previous_purchases  \\\n",
       "0                 Yes             Yes                  14   \n",
       "1                 Yes             Yes                   2   \n",
       "2                 Yes             Yes                  23   \n",
       "3                 Yes             Yes                  49   \n",
       "4                 Yes             Yes                  31   \n",
       "...               ...             ...                 ...   \n",
       "3895               No              No                  32   \n",
       "3896               No              No                  41   \n",
       "3897               No              No                  24   \n",
       "3898               No              No                  24   \n",
       "3899               No              No                  33   \n",
       "\n",
       "     preferred_payment_method frequency_of_purchases  \n",
       "0                       Venmo            Fortnightly  \n",
       "1                        Cash            Fortnightly  \n",
       "2                 Credit Card                 Weekly  \n",
       "3                      PayPal                 Weekly  \n",
       "4                      PayPal               Annually  \n",
       "...                       ...                    ...  \n",
       "3895                    Venmo                 Weekly  \n",
       "3896            Bank Transfer              Bi-Weekly  \n",
       "3897                    Venmo              Quarterly  \n",
       "3898                    Venmo                 Weekly  \n",
       "3899                    Venmo              Quarterly  \n",
       "\n",
       "[3900 rows x 19 columns]"
      ]
     },
     "execution_count": 178,
     "metadata": {},
     "output_type": "execute_result"
    }
   ],
   "source": [
    "data.columns = [\"customer_id\", \"age\", \"gender\", \"item_purchased\", \"category\",\n",
    "               \"purchase_amount_usd\", \"location\", \"size\", \"color\", \"season\", \"review_rating\",\n",
    "               \"subscription_status\", \"payment_method\", \"shipping_type\", \"discount_applied\",\n",
    "               \"promo_code_used\", \"previous_purchases\", \"preferred_payment_method\", \"frequency_of_purchases\"]\n",
    "data"
   ]
  },
  {
   "cell_type": "code",
   "execution_count": 179,
   "id": "cd0355dc",
   "metadata": {},
   "outputs": [
    {
     "data": {
      "text/plain": [
       "Text(0.5, 1.0, 'Histogram of Age')"
      ]
     },
     "execution_count": 179,
     "metadata": {},
     "output_type": "execute_result"
    },
    {
     "data": {
      "image/png": "[encoded data removed]",
      "text/plain": [
       "<Figure size 936x1080 with 1 Axes>"
      ]
     },
     "metadata": {},
     "output_type": "display_data"
    }
   ],
   "source": [
    "# 1. Гістограма віку (age):\n",
    "#1.Побудуйте гістограму віку клієнтів, використовуючи Seaborn.\n",
    "sns.set_theme()\n",
    "sns.histplot(data = data, x = data[\"age\"], kde = True, element = \"step\")\n",
    "sns.set(rc={\"figure.figsize\": (10, 13)})\n",
    "plt.xlabel(\"Age of clients\")\n",
    "plt.ylabel(\"Count of clients\")\n",
    "plt.title(\"Histogram of Age\")"
   ]
  },
  {
   "cell_type": "code",
   "execution_count": 180,
   "id": "369cd057",
   "metadata": {},
   "outputs": [
    {
     "data": {
      "text/plain": [
       "Text(0, 0.5, 'Count of clients')"
      ]
     },
     "execution_count": 180,
     "metadata": {},
     "output_type": "execute_result"
    },
    {
     "data": {
      "image/png": "[encoded data removed]",
      "text/plain": [
       "<Figure size 720x936 with 1 Axes>"
      ]
     },
     "metadata": {},
     "output_type": "display_data"
    }
   ],
   "source": [
    "# 2. Порівняння розподілу покупок за статтею (item_purchased):\n",
    "# 3. Створіть стовпчасту діаграму або графік розподілу, щоб порівняти, які \n",
    "# товари покупають клієнти найчастіше.\n",
    "data_purchased = data[[\"item_purchased\", \"customer_id\"]]\n",
    "data_purchased_g = data_purchased.groupby(by = [\"item_purchased\"]).count()\n",
    "data_purchased_g.reset_index(inplace = True)\n",
    "\n",
    "plot = sns.barplot(x = data_purchased_g[\"item_purchased\"], y = data_purchased_g[\"customer_id\"])\n",
    "plot.set_xticklabels(plot.get_xticklabels(), rotation=90)\n",
    "plt.title(\"Comparing purchase distribution\")\n",
    "plt.xlabel(\"Product purchased\")\n",
    "plt.ylabel(\"Count of clients\")"
   ]
  },
  {
   "cell_type": "code",
   "execution_count": 198,
   "id": "86de0183",
   "metadata": {},
   "outputs": [],
   "source": [
    "# 3. Створіть стовпчасту діаграму або графік розподілу, щоб порівняти, які \n",
    "# товари покупають клієнти найчастіше.\n",
    "# У практичній роботі 3.2 це завдання було описом до другого і прописувалось таким чином:\n",
    "\n",
    "# 2. Порівняння розподілу покупок за статтею (item_purchased):\n",
    "# Створіть стовпчасту діаграму або графік розподілу, щоб порівняти, які товари покупають клієнти найчастіше.\n",
    "\n",
    "# З мого розуміння це одне завдання, тому графік до нього Ви можете побачити у минулому блоку."
   ]
  },
  {
   "cell_type": "code",
   "execution_count": 182,
   "id": "b8e11242",
   "metadata": {},
   "outputs": [
    {
     "data": {
      "text/plain": [
       "Text(0, 0.5, 'Count of purchases')"
      ]
     },
     "execution_count": 182,
     "metadata": {},
     "output_type": "execute_result"
    },
    {
     "data": {
      "image/png": "[encoded data removed]",
      "text/plain": [
       "<Figure size 720x936 with 1 Axes>"
      ]
     },
     "metadata": {},
     "output_type": "display_data"
    }
   ],
   "source": [
    "# 4. Залежність між віком та сумою покупок (purchase_amount):\n",
    "purchase_amount = data[[\"purchase_amount_usd\", \"age\"]]\n",
    "purchase_amount\n",
    "\n",
    "age_purchase_amount = sns.scatterplot(x = purchase_amount[\"age\"], y = purchase_amount[\"purchase_amount_usd\"], marker = \"+\")\n",
    "sns.set(rc={\"figure.figsize\": (13, 15)})\n",
    "plt.title(\"Comparing age and purchase amount\")\n",
    "plt.xlabel(\"Age\")\n",
    "plt.ylabel(\"Count of purchases\")"
   ]
  },
  {
   "cell_type": "code",
   "execution_count": 183,
   "id": "bba4c24c",
   "metadata": {},
   "outputs": [],
   "source": [
    "# 5. Використовуйте scatter plot, щоб візуалізувати залежність між віком та \n",
    "# сумою покупок.\n",
    "# Аналогічно із завданням 3, графік можете побачити вище."
   ]
  },
  {
   "cell_type": "code",
   "execution_count": 184,
   "id": "43cf2736",
   "metadata": {},
   "outputs": [
    {
     "data": {
      "text/plain": [
       "Text(0, 0.5, 'Product rating')"
      ]
     },
     "execution_count": 184,
     "metadata": {},
     "output_type": "execute_result"
    },
    {
     "data": {
      "image/png": "[encoded data removed]",
      "text/plain": [
       "<Figure size 936x1080 with 1 Axes>"
      ]
     },
     "metadata": {},
     "output_type": "display_data"
    }
   ],
   "source": [
    "# 6. Графік розподілу оцінок товарів (review_rating):\n",
    "review_rating = data[[\"item_purchased\", \"review_rating\"]]\n",
    "review_rating_d = review_rating.groupby(by = [\"item_purchased\"]).mean()\n",
    "review_rating_d.reset_index(inplace = True)\n",
    "review_rating_d[\"item_purchased\"]\n",
    "rrd_list = list(review_rating_d[\"item_purchased\"])\n",
    "\n",
    "plot = sns.barplot(x = review_rating_d[\"item_purchased\"], y = review_rating_d[\"review_rating\"])\n",
    "plot = sns.lineplot(data = review_rating_d)\n",
    "plot.set_xticklabels(plot.get_xticklabels(), rotation=90)\n",
    "plt.title(\"Rating product distribution\")\n",
    "plt.xlabel(\"Product purchased\")\n",
    "plt.ylabel(\"Product rating\")"
   ]
  },
  {
   "cell_type": "code",
   "execution_count": 185,
   "id": "6ed64957",
   "metadata": {},
   "outputs": [],
   "source": [
    "# 7. Побудуйте графік розподілу оцінок товарів для оцінки якості.\n",
    "# Аналогічно з завданням 3, графік можете бачити вище."
   ]
  },
  {
   "cell_type": "code",
   "execution_count": 186,
   "id": "fb9eb6ff",
   "metadata": {},
   "outputs": [
    {
     "data": {
      "text/plain": [
       "Text(0, 0.5, 'Count of clients')"
      ]
     },
     "execution_count": 186,
     "metadata": {},
     "output_type": "execute_result"
    },
    {
     "data": {
      "image/png": "[encoded data removed]",
      "text/plain": [
       "<Figure size 936x1080 with 1 Axes>"
      ]
     },
     "metadata": {},
     "output_type": "display_data"
    }
   ],
   "source": [
    "# 8.Категоріальна діаграма для статі (gender):\n",
    "data_pgender = data[[\"item_purchased\", \"customer_id\", \"gender\"]]\n",
    "data_pgender_g = data_pgender.groupby(by = [\"item_purchased\", \"gender\"]).count()\n",
    "data_pgender_g.reset_index(inplace = True)\n",
    "data_pgender_g\n",
    "plot = sns.barplot(x = data_pgender_g[\"item_purchased\"], y = data_pgender_g[\"customer_id\"], hue = data_pgender_g[\"gender\"])\n",
    "plot = sns.lineplot(data = data_purchased_g)\n",
    "plot.set_xticklabels(plot.get_xticklabels(), rotation=90)\n",
    "plt.title(\"Gender purchase distribution\")\n",
    "plt.xlabel(\"Product purchased\")\n",
    "plt.ylabel(\"Count of clients\")"
   ]
  },
  {
   "cell_type": "code",
   "execution_count": 187,
   "id": "68599970",
   "metadata": {},
   "outputs": [],
   "source": [
    "# 9. Створіть категоріальну діаграму, щоб відобразити розподіл покупок за \n",
    "# статтею.\n",
    "# Аналогічно з завданням 3, графік можете бачити вище."
   ]
  },
  {
   "cell_type": "code",
   "execution_count": 188,
   "id": "d5aec70b",
   "metadata": {
    "scrolled": false
   },
   "outputs": [
    {
     "data": {
      "text/plain": [
       "<AxesSubplot:xlabel='purchase_amount_usd', ylabel='review_rating'>"
      ]
     },
     "execution_count": 188,
     "metadata": {},
     "output_type": "execute_result"
    },
    {
     "data": {
      "image/png": "[encoded data removed]",
      "text/plain": [
       "<Figure size 936x1080 with 1 Axes>"
      ]
     },
     "metadata": {},
     "output_type": "display_data"
    }
   ],
   "source": [
    "# 10. Залежність між рейтингом і сумою покупок (review_rating і purchase_amount) \n",
    "plot = sns.scatterplot(x = data[\"purchase_amount_usd\"], y = data[\"review_rating\"], marker = \"x\", color = \"r\")\n",
    "plot"
   ]
  },
  {
   "cell_type": "markdown",
   "id": "9b3dee73",
   "metadata": {},
   "source": [
    "Завдання №3"
   ]
  },
  {
   "cell_type": "code",
   "execution_count": 189,
   "id": "565f86c3",
   "metadata": {},
   "outputs": [
    {
     "data": {
      "text/plain": [
       "ThemeRegistry.enable('dark')"
      ]
     },
     "execution_count": 189,
     "metadata": {},
     "output_type": "execute_result"
    }
   ],
   "source": [
    "import altair as alt\n",
    "from vega_datasets import data\n",
    "import vega_datasets\n",
    "import numpy as np\n",
    "import plotly.express as px\n",
    "alt.themes.enable(\"dark\")"
   ]
  },
  {
   "cell_type": "code",
   "execution_count": 193,
   "id": "c65da570",
   "metadata": {},
   "outputs": [
    {
     "data": {
      "text/html": [
       "\n",
       "<style>\n",
       "  #altair-viz-d583cf141b174db6b005bceddb48b8c6.vega-embed {\n",
       "    width: 100%;\n",
       "    display: flex;\n",
       "  }\n",
       "\n",
       "  #altair-viz-d583cf141b174db6b005bceddb48b8c6.vega-embed details,\n",
       "  #altair-viz-d583cf141b174db6b005bceddb48b8c6.vega-embed details summary {\n",
       "    position: relative;\n",
       "  }\n",
       "</style>\n",
       "<div id=\"altair-viz-d583cf141b174db6b005bceddb48b8c6\"></div>\n",
       "<script type=\"text/javascript\">\n",
       "  var VEGA_DEBUG = (typeof VEGA_DEBUG == \"undefined\") ? {} : VEGA_DEBUG;\n",
       "  (function(spec, embedOpt){\n",
       "    let outputDiv = document.currentScript.previousElementSibling;\n",
       "    if (outputDiv.id !== \"altair-viz-d583cf141b174db6b005bceddb48b8c6\") {\n",
       "      outputDiv = document.getElementById(\"altair-viz-d583cf141b174db6b005bceddb48b8c6\");\n",
       "    }\n",
       "    const paths = {\n",
       "      \"vega\": \"https://cdn.jsdelivr.net/npm/vega@5?noext\",\n",
       "      \"vega-lib\": \"https://cdn.jsdelivr.net/npm/vega-lib?noext\",\n",
       "      \"vega-lite\": \"https://cdn.jsdelivr.net/npm/vega-lite@5.15.1?noext\",\n",
       "      \"vega-embed\": \"https://cdn.jsdelivr.net/npm/vega-embed@6?noext\",\n",
       "    };\n",
       "\n",
       "    function maybeLoadScript(lib, version) {\n",
       "      var key = `${lib.replace(\"-\", \"\")}_version`;\n",
       "      return (VEGA_DEBUG[key] == version) ?\n",
       "        Promise.resolve(paths[lib]) :\n",
       "        new Promise(function(resolve, reject) {\n",
       "          var s = document.createElement('script');\n",
       "          document.getElementsByTagName(\"head\")[0].appendChild(s);\n",
       "          s.async = true;\n",
       "          s.onload = () => {\n",
       "            VEGA_DEBUG[key] = version;\n",
       "            return resolve(paths[lib]);\n",
       "          };\n",
       "          s.onerror = () => reject(`Error loading script: ${paths[lib]}`);\n",
       "          s.src = paths[lib];\n",
       "        });\n",
       "    }\n",
       "\n",
       "    function showError(err) {\n",
       "      outputDiv.innerHTML = `<div class=\"error\" style=\"color:red;\">${err}</div>`;\n",
       "      throw err;\n",
       "    }\n",
       "\n",
       "    function displayChart(vegaEmbed) {\n",
       "      vegaEmbed(outputDiv, spec, embedOpt)\n",
       "        .catch(err => showError(`Javascript Error: ${err.message}<br>This usually means there's a typo in your chart specification. See the javascript console for the full traceback.`));\n",
       "    }\n",
       "\n",
       "    if(typeof define === \"function\" && define.amd) {\n",
       "      requirejs.config({paths});\n",
       "      require([\"vega-embed\"], displayChart, err => showError(`Error loading script: ${err.message}`));\n",
       "    } else {\n",
       "      maybeLoadScript(\"vega\", \"5\")\n",
       "        .then(() => maybeLoadScript(\"vega-lite\", \"5.15.1\"))\n",
       "        .then(() => maybeLoadScript(\"vega-embed\", \"6\"))\n",
       "        .catch(showError)\n",
       "        .then(() => displayChart(vegaEmbed));\n",
       "    }\n",
       "  })({\"usermeta\": {\"embedOptions\": {\"theme\": \"dark\"}}, \"config\": {\"view\": {\"continuousWidth\": 300, \"continuousHeight\": 300}, \"axis\": {\"labelFontSize\": 15, \"titleFontSize\": 15}}, \"data\": {\"name\": \"data-76d1ce26ea5761007c35827e1564d86c\"}, \"mark\": {\"type\": \"bar\"}, \"encoding\": {\"x\": {\"field\": \"wheat\", \"type\": \"quantitative\"}, \"y\": {\"field\": \"year\", \"type\": \"ordinal\"}}, \"height\": 750, \"title\": {\"text\": \"Diagram of wheat\", \"fontSize\": 20}, \"width\": 600, \"$schema\": \"https://vega.github.io/schema/vega-lite/v5.15.1.json\", \"datasets\": {\"data-76d1ce26ea5761007c35827e1564d86c\": [{\"year\": 1565, \"wheat\": 41.0, \"wages\": 5.0}, {\"year\": 1570, \"wheat\": 45.0, \"wages\": 5.05}, {\"year\": 1575, \"wheat\": 42.0, \"wages\": 5.08}, {\"year\": 1580, \"wheat\": 49.0, \"wages\": 5.12}, {\"year\": 1585, \"wheat\": 41.5, \"wages\": 5.15}, {\"year\": 1590, \"wheat\": 47.0, \"wages\": 5.25}, {\"year\": 1595, \"wheat\": 64.0, \"wages\": 5.54}, {\"year\": 1600, \"wheat\": 27.0, \"wages\": 5.61}, {\"year\": 1605, \"wheat\": 33.0, \"wages\": 5.69}, {\"year\": 1610, \"wheat\": 32.0, \"wages\": 5.78}, {\"year\": 1615, \"wheat\": 33.0, \"wages\": 5.94}, {\"year\": 1620, \"wheat\": 35.0, \"wages\": 6.01}, {\"year\": 1625, \"wheat\": 33.0, \"wages\": 6.12}, {\"year\": 1630, \"wheat\": 45.0, \"wages\": 6.22}, {\"year\": 1635, \"wheat\": 33.0, \"wages\": 6.3}, {\"year\": 1640, \"wheat\": 39.0, \"wages\": 6.37}, {\"year\": 1645, \"wheat\": 53.0, \"wages\": 6.45}, {\"year\": 1650, \"wheat\": 42.0, \"wages\": 6.5}, {\"year\": 1655, \"wheat\": 40.5, \"wages\": 6.6}, {\"year\": 1660, \"wheat\": 46.5, \"wages\": 6.75}, {\"year\": 1665, \"wheat\": 32.0, \"wages\": 6.8}, {\"year\": 1670, \"wheat\": 37.0, \"wages\": 6.9}, {\"year\": 1675, \"wheat\": 43.0, \"wages\": 7.0}, {\"year\": 1680, \"wheat\": 35.0, \"wages\": 7.3}, {\"year\": 1685, \"wheat\": 27.0, \"wages\": 7.6}, {\"year\": 1690, \"wheat\": 40.0, \"wages\": 8.0}, {\"year\": 1695, \"wheat\": 50.0, \"wages\": 8.5}, {\"year\": 1700, \"wheat\": 30.0, \"wages\": 9.0}, {\"year\": 1705, \"wheat\": 32.0, \"wages\": 10.0}, {\"year\": 1710, \"wheat\": 44.0, \"wages\": 11.0}, {\"year\": 1715, \"wheat\": 33.0, \"wages\": 11.75}, {\"year\": 1720, \"wheat\": 29.0, \"wages\": 12.5}, {\"year\": 1725, \"wheat\": 39.0, \"wages\": 13.0}, {\"year\": 1730, \"wheat\": 26.0, \"wages\": 13.3}, {\"year\": 1735, \"wheat\": 32.0, \"wages\": 13.6}, {\"year\": 1740, \"wheat\": 27.0, \"wages\": 14.0}, {\"year\": 1745, \"wheat\": 27.5, \"wages\": 14.5}, {\"year\": 1750, \"wheat\": 31.0, \"wages\": 15.0}, {\"year\": 1755, \"wheat\": 35.5, \"wages\": 15.7}, {\"year\": 1760, \"wheat\": 31.0, \"wages\": 16.5}, {\"year\": 1765, \"wheat\": 43.0, \"wages\": 17.6}, {\"year\": 1770, \"wheat\": 47.0, \"wages\": 18.5}, {\"year\": 1775, \"wheat\": 44.0, \"wages\": 19.5}, {\"year\": 1780, \"wheat\": 46.0, \"wages\": 21.0}, {\"year\": 1785, \"wheat\": 42.0, \"wages\": 23.0}, {\"year\": 1790, \"wheat\": 47.5, \"wages\": 25.5}, {\"year\": 1795, \"wheat\": 76.0, \"wages\": 27.5}, {\"year\": 1800, \"wheat\": 79.0, \"wages\": 28.5}, {\"year\": 1805, \"wheat\": 81.0, \"wages\": 29.5}, {\"year\": 1810, \"wheat\": 99.0, \"wages\": 30.0}, {\"year\": 1815, \"wheat\": 78.0, \"wages\": null}, {\"year\": 1820, \"wheat\": 54.0, \"wages\": null}]}}, {\"mode\": \"vega-lite\"});\n",
       "</script>"
      ],
      "text/plain": [
       "alt.Chart(...)"
      ]
     },
     "execution_count": 193,
     "metadata": {},
     "output_type": "execute_result"
    }
   ],
   "source": [
    "# 1. Створіть горизонтальну діаграму з мітками на основі даних про врожайність пшениці (data.wheat()) за допомогою бібліотеки Altair. \n",
    "# Задайте вісь x для врожайності пшениці, вісь y для років, а текстові \n",
    "# мітки відображайте значення врожайності пшениці на відповідних \n",
    "# роках.\n",
    "data2 = data.wheat()\n",
    "plot2 = alt.Chart(data2, title = alt.TitleParams(\n",
    "    text = \"Diagram of wheat\", fontSize = 20)).mark_bar().encode(\n",
    "    x = \"wheat:Q\", \n",
    "    y = \"year:O\").configure_axis(labelFontSize = 15, titleFontSize = 15)\n",
    "plot2.width = 600\n",
    "plot2.height = 750\n",
    "plot2"
   ]
  },
  {
   "cell_type": "code",
   "execution_count": 196,
   "id": "5de44143",
   "metadata": {},
   "outputs": [
    {
     "data": {
      "text/html": [
       "\n",
       "<style>\n",
       "  #altair-viz-f03dfaa0da304b669991389da96327ad.vega-embed {\n",
       "    width: 100%;\n",
       "    display: flex;\n",
       "  }\n",
       "\n",
       "  #altair-viz-f03dfaa0da304b669991389da96327ad.vega-embed details,\n",
       "  #altair-viz-f03dfaa0da304b669991389da96327ad.vega-embed details summary {\n",
       "    position: relative;\n",
       "  }\n",
       "</style>\n",
       "<div id=\"altair-viz-f03dfaa0da304b669991389da96327ad\"></div>\n",
       "<script type=\"text/javascript\">\n",
       "  var VEGA_DEBUG = (typeof VEGA_DEBUG == \"undefined\") ? {} : VEGA_DEBUG;\n",
       "  (function(spec, embedOpt){\n",
       "    let outputDiv = document.currentScript.previousElementSibling;\n",
       "    if (outputDiv.id !== \"altair-viz-f03dfaa0da304b669991389da96327ad\") {\n",
       "      outputDiv = document.getElementById(\"altair-viz-f03dfaa0da304b669991389da96327ad\");\n",
       "    }\n",
       "    const paths = {\n",
       "      \"vega\": \"https://cdn.jsdelivr.net/npm/vega@5?noext\",\n",
       "      \"vega-lib\": \"https://cdn.jsdelivr.net/npm/vega-lib?noext\",\n",
       "      \"vega-lite\": \"https://cdn.jsdelivr.net/npm/vega-lite@5.15.1?noext\",\n",
       "      \"vega-embed\": \"https://cdn.jsdelivr.net/npm/vega-embed@6?noext\",\n",
       "    };\n",
       "\n",
       "    function maybeLoadScript(lib, version) {\n",
       "      var key = `${lib.replace(\"-\", \"\")}_version`;\n",
       "      return (VEGA_DEBUG[key] == version) ?\n",
       "        Promise.resolve(paths[lib]) :\n",
       "        new Promise(function(resolve, reject) {\n",
       "          var s = document.createElement('script');\n",
       "          document.getElementsByTagName(\"head\")[0].appendChild(s);\n",
       "          s.async = true;\n",
       "          s.onload = () => {\n",
       "            VEGA_DEBUG[key] = version;\n",
       "            return resolve(paths[lib]);\n",
       "          };\n",
       "          s.onerror = () => reject(`Error loading script: ${paths[lib]}`);\n",
       "          s.src = paths[lib];\n",
       "        });\n",
       "    }\n",
       "\n",
       "    function showError(err) {\n",
       "      outputDiv.innerHTML = `<div class=\"error\" style=\"color:red;\">${err}</div>`;\n",
       "      throw err;\n",
       "    }\n",
       "\n",
       "    function displayChart(vegaEmbed) {\n",
       "      vegaEmbed(outputDiv, spec, embedOpt)\n",
       "        .catch(err => showError(`Javascript Error: ${err.message}<br>This usually means there's a typo in your chart specification. See the javascript console for the full traceback.`));\n",
       "    }\n",
       "\n",
       "    if(typeof define === \"function\" && define.amd) {\n",
       "      requirejs.config({paths});\n",
       "      require([\"vega-embed\"], displayChart, err => showError(`Error loading script: ${err.message}`));\n",
       "    } else {\n",
       "      maybeLoadScript(\"vega\", \"5\")\n",
       "        .then(() => maybeLoadScript(\"vega-lite\", \"5.15.1\"))\n",
       "        .then(() => maybeLoadScript(\"vega-embed\", \"6\"))\n",
       "        .catch(showError)\n",
       "        .then(() => displayChart(vegaEmbed));\n",
       "    }\n",
       "  })({\"usermeta\": {\"embedOptions\": {\"theme\": \"dark\"}}, \"config\": {\"view\": {\"continuousWidth\": 300, \"continuousHeight\": 300}}, \"data\": {\"name\": \"data-bb61008ba0c766c5601afa5323d12ad4\"}, \"mark\": {\"type\": \"area\"}, \"encoding\": {\"color\": {\"field\": \"source\", \"title\": \"Electricity source\", \"type\": \"nominal\"}, \"opacity\": {\"value\": 0.7}, \"x\": {\"field\": \"year\", \"title\": \"Year\", \"type\": \"temporal\"}, \"y\": {\"axis\": {\"format\": \".0%\"}, \"field\": \"net_generation\", \"stack\": \"normalize\", \"title\": \"Share of net generation\", \"type\": \"quantitative\"}}, \"title\": {\"text\": \"Iowa's green energy boom\"}, \"$schema\": \"https://vega.github.io/schema/vega-lite/v5.15.1.json\", \"datasets\": {\"data-bb61008ba0c766c5601afa5323d12ad4\": [{\"year\": \"2001-01-01T00:00:00\", \"source\": \"Fossil Fuels\", \"net_generation\": 35361}, {\"year\": \"2002-01-01T00:00:00\", \"source\": \"Fossil Fuels\", \"net_generation\": 35991}, {\"year\": \"2003-01-01T00:00:00\", \"source\": \"Fossil Fuels\", \"net_generation\": 36234}, {\"year\": \"2004-01-01T00:00:00\", \"source\": \"Fossil Fuels\", \"net_generation\": 36205}, {\"year\": \"2005-01-01T00:00:00\", \"source\": \"Fossil Fuels\", \"net_generation\": 36883}, {\"year\": \"2006-01-01T00:00:00\", \"source\": \"Fossil Fuels\", \"net_generation\": 37014}, {\"year\": \"2007-01-01T00:00:00\", \"source\": \"Fossil Fuels\", \"net_generation\": 41389}, {\"year\": \"2008-01-01T00:00:00\", \"source\": \"Fossil Fuels\", \"net_generation\": 42734}, {\"year\": \"2009-01-01T00:00:00\", \"source\": \"Fossil Fuels\", \"net_generation\": 38620}, {\"year\": \"2010-01-01T00:00:00\", \"source\": \"Fossil Fuels\", \"net_generation\": 42750}, {\"year\": \"2011-01-01T00:00:00\", \"source\": \"Fossil Fuels\", \"net_generation\": 39361}, {\"year\": \"2012-01-01T00:00:00\", \"source\": \"Fossil Fuels\", \"net_generation\": 37379}, {\"year\": \"2013-01-01T00:00:00\", \"source\": \"Fossil Fuels\", \"net_generation\": 34873}, {\"year\": \"2014-01-01T00:00:00\", \"source\": \"Fossil Fuels\", \"net_generation\": 35250}, {\"year\": \"2015-01-01T00:00:00\", \"source\": \"Fossil Fuels\", \"net_generation\": 32319}, {\"year\": \"2016-01-01T00:00:00\", \"source\": \"Fossil Fuels\", \"net_generation\": 28437}, {\"year\": \"2017-01-01T00:00:00\", \"source\": \"Fossil Fuels\", \"net_generation\": 29329}, {\"year\": \"2001-01-01T00:00:00\", \"source\": \"Nuclear Energy\", \"net_generation\": 3853}, {\"year\": \"2002-01-01T00:00:00\", \"source\": \"Nuclear Energy\", \"net_generation\": 4574}, {\"year\": \"2003-01-01T00:00:00\", \"source\": \"Nuclear Energy\", \"net_generation\": 3988}, {\"year\": \"2004-01-01T00:00:00\", \"source\": \"Nuclear Energy\", \"net_generation\": 4929}, {\"year\": \"2005-01-01T00:00:00\", \"source\": \"Nuclear Energy\", \"net_generation\": 4538}, {\"year\": \"2006-01-01T00:00:00\", \"source\": \"Nuclear Energy\", \"net_generation\": 5095}, {\"year\": \"2007-01-01T00:00:00\", \"source\": \"Nuclear Energy\", \"net_generation\": 4519}, {\"year\": \"2008-01-01T00:00:00\", \"source\": \"Nuclear Energy\", \"net_generation\": 5282}, {\"year\": \"2009-01-01T00:00:00\", \"source\": \"Nuclear Energy\", \"net_generation\": 4679}, {\"year\": \"2010-01-01T00:00:00\", \"source\": \"Nuclear Energy\", \"net_generation\": 4451}, {\"year\": \"2011-01-01T00:00:00\", \"source\": \"Nuclear Energy\", \"net_generation\": 5215}, {\"year\": \"2012-01-01T00:00:00\", \"source\": \"Nuclear Energy\", \"net_generation\": 4347}, {\"year\": \"2013-01-01T00:00:00\", \"source\": \"Nuclear Energy\", \"net_generation\": 5321}, {\"year\": \"2014-01-01T00:00:00\", \"source\": \"Nuclear Energy\", \"net_generation\": 4152}, {\"year\": \"2015-01-01T00:00:00\", \"source\": \"Nuclear Energy\", \"net_generation\": 5243}, {\"year\": \"2016-01-01T00:00:00\", \"source\": \"Nuclear Energy\", \"net_generation\": 4703}, {\"year\": \"2017-01-01T00:00:00\", \"source\": \"Nuclear Energy\", \"net_generation\": 5214}, {\"year\": \"2001-01-01T00:00:00\", \"source\": \"Renewables\", \"net_generation\": 1437}, {\"year\": \"2002-01-01T00:00:00\", \"source\": \"Renewables\", \"net_generation\": 1963}, {\"year\": \"2003-01-01T00:00:00\", \"source\": \"Renewables\", \"net_generation\": 1885}, {\"year\": \"2004-01-01T00:00:00\", \"source\": \"Renewables\", \"net_generation\": 2102}, {\"year\": \"2005-01-01T00:00:00\", \"source\": \"Renewables\", \"net_generation\": 2724}, {\"year\": \"2006-01-01T00:00:00\", \"source\": \"Renewables\", \"net_generation\": 3364}, {\"year\": \"2007-01-01T00:00:00\", \"source\": \"Renewables\", \"net_generation\": 3870}, {\"year\": \"2008-01-01T00:00:00\", \"source\": \"Renewables\", \"net_generation\": 5070}, {\"year\": \"2009-01-01T00:00:00\", \"source\": \"Renewables\", \"net_generation\": 8560}, {\"year\": \"2010-01-01T00:00:00\", \"source\": \"Renewables\", \"net_generation\": 10308}, {\"year\": \"2011-01-01T00:00:00\", \"source\": \"Renewables\", \"net_generation\": 11795}, {\"year\": \"2012-01-01T00:00:00\", \"source\": \"Renewables\", \"net_generation\": 14949}, {\"year\": \"2013-01-01T00:00:00\", \"source\": \"Renewables\", \"net_generation\": 16476}, {\"year\": \"2014-01-01T00:00:00\", \"source\": \"Renewables\", \"net_generation\": 17452}, {\"year\": \"2015-01-01T00:00:00\", \"source\": \"Renewables\", \"net_generation\": 19091}, {\"year\": \"2016-01-01T00:00:00\", \"source\": \"Renewables\", \"net_generation\": 21241}, {\"year\": \"2017-01-01T00:00:00\", \"source\": \"Renewables\", \"net_generation\": 21933}]}}, {\"mode\": \"vega-lite\"});\n",
       "</script>"
      ],
      "text/plain": [
       "alt.Chart(...)"
      ]
     },
     "execution_count": 196,
     "metadata": {},
     "output_type": "execute_result"
    }
   ],
   "source": [
    "# 2. Створіть багатошарову діаграму на основі даних про виробництво електроенергії в штаті Айова (data.iowa_electricity()) за допомогою бібліотеки Altair. Вісь x представляє роки, вісь y відображає чисте виробництво електроенергії (net_generation), а кожен шар діаграми позначає різні джерела енергії (source). Встановіть прозорість (opacity) для стовпців на рівні 0.7.\n",
    "data5 = data.iowa_electricity()\n",
    "data5\n",
    "plot5 = alt.Chart(\n",
    "    data5,\n",
    "    title=alt.Title(\n",
    "        \"Iowa's green energy boom\"\n",
    "    )\n",
    ").mark_area().encode(\n",
    "    alt.X(\"year:T\").title(\"Year\"),\n",
    "    alt.Y(\"net_generation:Q\")\n",
    "        .title(\"Share of net generation\")\n",
    "        .stack(\"normalize\")\n",
    "        .axis(format=\".0%\"),\n",
    "    alt.Color(\"source:N\").title(\"Electricity source\"), alt.OpacityValue(0.7)\n",
    ")\n",
    "plot5"
   ]
  },
  {
   "cell_type": "code",
   "execution_count": 197,
   "id": "4470b926",
   "metadata": {
    "scrolled": false
   },
   "outputs": [
    {
     "data": {
      "application/vnd.plotly.v1+json": {
       "config": {
        "plotlyServerURL": "https://plot.ly"
       },
       "data": [
        {
         "hovertemplate": "species=setosa<br>Ширина пелюстки=%{x}<br>Довжина пелюстки=%{y}<br>petal_length=%{marker.size}<extra></extra>",
         "legendgroup": "setosa",
         "marker": {
          "color": "#636efa",
          "size": [
           1.4,
           1.4,
           1.3,
           1.5,
           1.4,
           1.7,
           1.4,
           1.5,
           1.4,
           1.5,
           1.5,
           1.6,
           1.4,
           1.1,
           1.2,
           1.5,
           1.3,
           1.4,
           1.7,
           1.5,
           1.7,
           1.5,
           1,
           1.7,
           1.9,
           1.6,
           1.6,
           1.5,
           1.4,
           1.6,
           1.6,
           1.5,
           1.5,
           1.4,
           1.5,
           1.2,
           1.3,
           1.5,
           1.3,
           1.5,
           1.3,
           1.3,
           1.3,
           1.6,
           1.9,
           1.4,
           1.6,
           1.4,
           1.5,
           1.4
          ],
          "sizemode": "area",
          "sizeref": 0.01725,
          "symbol": "circle"
         },
         "mode": "markers",
         "name": "setosa",
         "orientation": "v",
         "showlegend": true,
         "type": "scatter",
         "x": [
          3.5,
          3,
          3.2,
          3.1,
          3.6,
          3.9,
          3.4,
          3.4,
          2.9,
          3.1,
          3.7,
          3.4,
          3,
          3,
          4,
          4.4,
          3.9,
          3.5,
          3.8,
          3.8,
          3.4,
          3.7,
          3.6,
          3.3,
          3.4,
          3,
          3.4,
          3.5,
          3.4,
          3.2,
          3.1,
          3.4,
          4.1,
          4.2,
          3.1,
          3.2,
          3.5,
          3.1,
          3,
          3.4,
          3.5,
          2.3,
          3.2,
          3.5,
          3.8,
          3,
          3.8,
          3.2,
          3.7,
          3.3
         ],
         "xaxis": "x",
         "y": [
          5.1,
          4.9,
          4.7,
          4.6,
          5,
          5.4,
          4.6,
          5,
          4.4,
          4.9,
          5.4,
          4.8,
          4.8,
          4.3,
          5.8,
          5.7,
          5.4,
          5.1,
          5.7,
          5.1,
          5.4,
          5.1,
          4.6,
          5.1,
          4.8,
          5,
          5,
          5.2,
          5.2,
          4.7,
          4.8,
          5.4,
          5.2,
          5.5,
          4.9,
          5,
          5.5,
          4.9,
          4.4,
          5.1,
          5,
          4.5,
          4.4,
          5,
          5.1,
          4.8,
          5.1,
          4.6,
          5.3,
          5
         ],
         "yaxis": "y"
        },
        {
         "hovertemplate": "species=versicolor<br>Ширина пелюстки=%{x}<br>Довжина пелюстки=%{y}<br>petal_length=%{marker.size}<extra></extra>",
         "legendgroup": "versicolor",
         "marker": {
          "color": "#EF553B",
          "size": [
           4.7,
           4.5,
           4.9,
           4,
           4.6,
           4.5,
           4.7,
           3.3,
           4.6,
           3.9,
           3.5,
           4.2,
           4,
           4.7,
           3.6,
           4.4,
           4.5,
           4.1,
           4.5,
           3.9,
           4.8,
           4,
           4.9,
           4.7,
           4.3,
           4.4,
           4.8,
           5,
           4.5,
           3.5,
           3.8,
           3.7,
           3.9,
           5.1,
           4.5,
           4.5,
           4.7,
           4.4,
           4.1,
           4,
           4.4,
           4.6,
           4,
           3.3,
           4.2,
           4.2,
           4.2,
           4.3,
           3,
           4.1
          ],
          "sizemode": "area",
          "sizeref": 0.01725,
          "symbol": "circle"
         },
         "mode": "markers",
         "name": "versicolor",
         "orientation": "v",
         "showlegend": true,
         "type": "scatter",
         "x": [
          3.2,
          3.2,
          3.1,
          2.3,
          2.8,
          2.8,
          3.3,
          2.4,
          2.9,
          2.7,
          2,
          3,
          2.2,
          2.9,
          2.9,
          3.1,
          3,
          2.7,
          2.2,
          2.5,
          3.2,
          2.8,
          2.5,
          2.8,
          2.9,
          3,
          2.8,
          3,
          2.9,
          2.6,
          2.4,
          2.4,
          2.7,
          2.7,
          3,
          3.4,
          3.1,
          2.3,
          3,
          2.5,
          2.6,
          3,
          2.6,
          2.3,
          2.7,
          3,
          2.9,
          2.9,
          2.5,
          2.8
         ],
         "xaxis": "x",
         "y": [
          7,
          6.4,
          6.9,
          5.5,
          6.5,
          5.7,
          6.3,
          4.9,
          6.6,
          5.2,
          5,
          5.9,
          6,
          6.1,
          5.6,
          6.7,
          5.6,
          5.8,
          6.2,
          5.6,
          5.9,
          6.1,
          6.3,
          6.1,
          6.4,
          6.6,
          6.8,
          6.7,
          6,
          5.7,
          5.5,
          5.5,
          5.8,
          6,
          5.4,
          6,
          6.7,
          6.3,
          5.6,
          5.5,
          5.5,
          6.1,
          5.8,
          5,
          5.6,
          5.7,
          5.7,
          6.2,
          5.1,
          5.7
         ],
         "yaxis": "y"
        },
        {
         "hovertemplate": "species=virginica<br>Ширина пелюстки=%{x}<br>Довжина пелюстки=%{y}<br>petal_length=%{marker.size}<extra></extra>",
         "legendgroup": "virginica",
         "marker": {
          "color": "#00cc96",
          "size": [
           6,
           5.1,
           5.9,
           5.6,
           5.8,
           6.6,
           4.5,
           6.3,
           5.8,
           6.1,
           5.1,
           5.3,
           5.5,
           5,
           5.1,
           5.3,
           5.5,
           6.7,
           6.9,
           5,
           5.7,
           4.9,
           6.7,
           4.9,
           5.7,
           6,
           4.8,
           4.9,
           5.6,
           5.8,
           6.1,
           6.4,
           5.6,
           5.1,
           5.6,
           6.1,
           5.6,
           5.5,
           4.8,
           5.4,
           5.6,
           5.1,
           5.1,
           5.9,
           5.7,
           5.2,
           5,
           5.2,
           5.4,
           5.1
          ],
          "sizemode": "area",
          "sizeref": 0.01725,
          "symbol": "circle"
         },
         "mode": "markers",
         "name": "virginica",
         "orientation": "v",
         "showlegend": true,
         "type": "scatter",
         "x": [
          3.3,
          2.7,
          3,
          2.9,
          3,
          3,
          2.5,
          2.9,
          2.5,
          3.6,
          3.2,
          2.7,
          3,
          2.5,
          2.8,
          3.2,
          3,
          3.8,
          2.6,
          2.2,
          3.2,
          2.8,
          2.8,
          2.7,
          3.3,
          3.2,
          2.8,
          3,
          2.8,
          3,
          2.8,
          3.8,
          2.8,
          2.8,
          2.6,
          3,
          3.4,
          3.1,
          3,
          3.1,
          3.1,
          3.1,
          2.7,
          3.2,
          3.3,
          3,
          2.5,
          3,
          3.4,
          3
         ],
         "xaxis": "x",
         "y": [
          6.3,
          5.8,
          7.1,
          6.3,
          6.5,
          7.6,
          4.9,
          7.3,
          6.7,
          7.2,
          6.5,
          6.4,
          6.8,
          5.7,
          5.8,
          6.4,
          6.5,
          7.7,
          7.7,
          6,
          6.9,
          5.6,
          7.7,
          6.3,
          6.7,
          7.2,
          6.2,
          6.1,
          6.4,
          7.2,
          7.4,
          7.9,
          6.4,
          6.3,
          6.1,
          7.7,
          6.3,
          6.4,
          6,
          6.9,
          6.7,
          6.9,
          5.8,
          6.8,
          6.7,
          6.7,
          6.3,
          6.5,
          6.2,
          5.9
         ],
         "yaxis": "y"
        }
       ],
       "layout": {
        "legend": {
         "itemsizing": "constant",
         "title": {
          "text": "species"
         },
         "tracegroupgap": 0
        },
        "template": {
         "data": {
          "bar": [
           {
            "error_x": {
             "color": "#f2f5fa"
            },
            "error_y": {
             "color": "#f2f5fa"
            },
            "marker": {
             "line": {
              "color": "rgb(17,17,17)",
              "width": 0.5
             },
             "pattern": {
              "fillmode": "overlay",
              "size": 10,
              "solidity": 0.2
             }
            },
            "type": "bar"
           }
          ],
          "barpolar": [
           {
            "marker": {
             "line": {
              "color": "rgb(17,17,17)",
              "width": 0.5
             },
             "pattern": {
              "fillmode": "overlay",
              "size": 10,
              "solidity": 0.2
             }
            },
            "type": "barpolar"
           }
          ],
          "carpet": [
           {
            "aaxis": {
             "endlinecolor": "#A2B1C6",
             "gridcolor": "#506784",
             "linecolor": "#506784",
             "minorgridcolor": "#506784",
             "startlinecolor": "#A2B1C6"
            },
            "baxis": {
             "endlinecolor": "#A2B1C6",
             "gridcolor": "#506784",
             "linecolor": "#506784",
             "minorgridcolor": "#506784",
             "startlinecolor": "#A2B1C6"
            },
            "type": "carpet"
           }
          ],
          "choropleth": [
           {
            "colorbar": {
             "outlinewidth": 0,
             "ticks": ""
            },
            "type": "choropleth"
           }
          ],
          "contour": [
           {
            "colorbar": {
             "outlinewidth": 0,
             "ticks": ""
            },
            "colorscale": [
             [
              0,
              "#0d0887"
             ],
             [
              0.1111111111111111,
              "#46039f"
             ],
             [
              0.2222222222222222,
              "#7201a8"
             ],
             [
              0.3333333333333333,
              "#9c179e"
             ],
             [
              0.4444444444444444,
              "#bd3786"
             ],
             [
              0.5555555555555556,
              "#d8576b"
             ],
             [
              0.6666666666666666,
              "#ed7953"
             ],
             [
              0.7777777777777778,
              "#fb9f3a"
             ],
             [
              0.8888888888888888,
              "#fdca26"
             ],
             [
              1,
              "#f0f921"
             ]
            ],
            "type": "contour"
           }
          ],
          "contourcarpet": [
           {
            "colorbar": {
             "outlinewidth": 0,
             "ticks": ""
            },
            "type": "contourcarpet"
           }
          ],
          "heatmap": [
           {
            "colorbar": {
             "outlinewidth": 0,
             "ticks": ""
            },
            "colorscale": [
             [
              0,
              "#0d0887"
             ],
             [
              0.1111111111111111,
              "#46039f"
             ],
             [
              0.2222222222222222,
              "#7201a8"
             ],
             [
              0.3333333333333333,
              "#9c179e"
             ],
             [
              0.4444444444444444,
              "#bd3786"
             ],
             [
              0.5555555555555556,
              "#d8576b"
             ],
             [
              0.6666666666666666,
              "#ed7953"
             ],
             [
              0.7777777777777778,
              "#fb9f3a"
             ],
             [
              0.8888888888888888,
              "#fdca26"
             ],
             [
              1,
              "#f0f921"
             ]
            ],
            "type": "heatmap"
           }
          ],
          "heatmapgl": [
           {
            "colorbar": {
             "outlinewidth": 0,
             "ticks": ""
            },
            "colorscale": [
             [
              0,
              "#0d0887"
             ],
             [
              0.1111111111111111,
              "#46039f"
             ],
             [
              0.2222222222222222,
              "#7201a8"
             ],
             [
              0.3333333333333333,
              "#9c179e"
             ],
             [
              0.4444444444444444,
              "#bd3786"
             ],
             [
              0.5555555555555556,
              "#d8576b"
             ],
             [
              0.6666666666666666,
              "#ed7953"
             ],
             [
              0.7777777777777778,
              "#fb9f3a"
             ],
             [
              0.8888888888888888,
              "#fdca26"
             ],
             [
              1,
              "#f0f921"
             ]
            ],
            "type": "heatmapgl"
           }
          ],
          "histogram": [
           {
            "marker": {
             "pattern": {
              "fillmode": "overlay",
              "size": 10,
              "solidity": 0.2
             }
            },
            "type": "histogram"
           }
          ],
          "histogram2d": [
           {
            "colorbar": {
             "outlinewidth": 0,
             "ticks": ""
            },
            "colorscale": [
             [
              0,
              "#0d0887"
             ],
             [
              0.1111111111111111,
              "#46039f"
             ],
             [
              0.2222222222222222,
              "#7201a8"
             ],
             [
              0.3333333333333333,
              "#9c179e"
             ],
             [
              0.4444444444444444,
              "#bd3786"
             ],
             [
              0.5555555555555556,
              "#d8576b"
             ],
             [
              0.6666666666666666,
              "#ed7953"
             ],
             [
              0.7777777777777778,
              "#fb9f3a"
             ],
             [
              0.8888888888888888,
              "#fdca26"
             ],
             [
              1,
              "#f0f921"
             ]
            ],
            "type": "histogram2d"
           }
          ],
          "histogram2dcontour": [
           {
            "colorbar": {
             "outlinewidth": 0,
             "ticks": ""
            },
            "colorscale": [
             [
              0,
              "#0d0887"
             ],
             [
              0.1111111111111111,
              "#46039f"
             ],
             [
              0.2222222222222222,
              "#7201a8"
             ],
             [
              0.3333333333333333,
              "#9c179e"
             ],
             [
              0.4444444444444444,
              "#bd3786"
             ],
             [
              0.5555555555555556,
              "#d8576b"
             ],
             [
              0.6666666666666666,
              "#ed7953"
             ],
             [
              0.7777777777777778,
              "#fb9f3a"
             ],
             [
              0.8888888888888888,
              "#fdca26"
             ],
             [
              1,
              "#f0f921"
             ]
            ],
            "type": "histogram2dcontour"
           }
          ],
          "mesh3d": [
           {
            "colorbar": {
             "outlinewidth": 0,
             "ticks": ""
            },
            "type": "mesh3d"
           }
          ],
          "parcoords": [
           {
            "line": {
             "colorbar": {
              "outlinewidth": 0,
              "ticks": ""
             }
            },
            "type": "parcoords"
           }
          ],
          "pie": [
           {
            "automargin": true,
            "type": "pie"
           }
          ],
          "scatter": [
           {
            "marker": {
             "line": {
              "color": "#283442"
             }
            },
            "type": "scatter"
           }
          ],
          "scatter3d": [
           {
            "line": {
             "colorbar": {
              "outlinewidth": 0,
              "ticks": ""
             }
            },
            "marker": {
             "colorbar": {
              "outlinewidth": 0,
              "ticks": ""
             }
            },
            "type": "scatter3d"
           }
          ],
          "scattercarpet": [
           {
            "marker": {
             "colorbar": {
              "outlinewidth": 0,
              "ticks": ""
             }
            },
            "type": "scattercarpet"
           }
          ],
          "scattergeo": [
           {
            "marker": {
             "colorbar": {
              "outlinewidth": 0,
              "ticks": ""
             }
            },
            "type": "scattergeo"
           }
          ],
          "scattergl": [
           {
            "marker": {
             "line": {
              "color": "#283442"
             }
            },
            "type": "scattergl"
           }
          ],
          "scattermapbox": [
           {
            "marker": {
             "colorbar": {
              "outlinewidth": 0,
              "ticks": ""
             }
            },
            "type": "scattermapbox"
           }
          ],
          "scatterpolar": [
           {
            "marker": {
             "colorbar": {
              "outlinewidth": 0,
              "ticks": ""
             }
            },
            "type": "scatterpolar"
           }
          ],
          "scatterpolargl": [
           {
            "marker": {
             "colorbar": {
              "outlinewidth": 0,
              "ticks": ""
             }
            },
            "type": "scatterpolargl"
           }
          ],
          "scatterternary": [
           {
            "marker": {
             "colorbar": {
              "outlinewidth": 0,
              "ticks": ""
             }
            },
            "type": "scatterternary"
           }
          ],
          "surface": [
           {
            "colorbar": {
             "outlinewidth": 0,
             "ticks": ""
            },
            "colorscale": [
             [
              0,
              "#0d0887"
             ],
             [
              0.1111111111111111,
              "#46039f"
             ],
             [
              0.2222222222222222,
              "#7201a8"
             ],
             [
              0.3333333333333333,
              "#9c179e"
             ],
             [
              0.4444444444444444,
              "#bd3786"
             ],
             [
              0.5555555555555556,
              "#d8576b"
             ],
             [
              0.6666666666666666,
              "#ed7953"
             ],
             [
              0.7777777777777778,
              "#fb9f3a"
             ],
             [
              0.8888888888888888,
              "#fdca26"
             ],
             [
              1,
              "#f0f921"
             ]
            ],
            "type": "surface"
           }
          ],
          "table": [
           {
            "cells": {
             "fill": {
              "color": "#506784"
             },
             "line": {
              "color": "rgb(17,17,17)"
             }
            },
            "header": {
             "fill": {
              "color": "#2a3f5f"
             },
             "line": {
              "color": "rgb(17,17,17)"
             }
            },
            "type": "table"
           }
          ]
         },
         "layout": {
          "annotationdefaults": {
           "arrowcolor": "#f2f5fa",
           "arrowhead": 0,
           "arrowwidth": 1
          },
          "autotypenumbers": "strict",
          "coloraxis": {
           "colorbar": {
            "outlinewidth": 0,
            "ticks": ""
           }
          },
          "colorscale": {
           "diverging": [
            [
             0,
             "#8e0152"
            ],
            [
             0.1,
             "#c51b7d"
            ],
            [
             0.2,
             "#de77ae"
            ],
            [
             0.3,
             "#f1b6da"
            ],
            [
             0.4,
             "#fde0ef"
            ],
            [
             0.5,
             "#f7f7f7"
            ],
            [
             0.6,
             "#e6f5d0"
            ],
            [
             0.7,
             "#b8e186"
            ],
            [
             0.8,
             "#7fbc41"
            ],
            [
             0.9,
             "#4d9221"
            ],
            [
             1,
             "#276419"
            ]
           ],
           "sequential": [
            [
             0,
             "#0d0887"
            ],
            [
             0.1111111111111111,
             "#46039f"
            ],
            [
             0.2222222222222222,
             "#7201a8"
            ],
            [
             0.3333333333333333,
             "#9c179e"
            ],
            [
             0.4444444444444444,
             "#bd3786"
            ],
            [
             0.5555555555555556,
             "#d8576b"
            ],
            [
             0.6666666666666666,
             "#ed7953"
            ],
            [
             0.7777777777777778,
             "#fb9f3a"
            ],
            [
             0.8888888888888888,
             "#fdca26"
            ],
            [
             1,
             "#f0f921"
            ]
           ],
           "sequentialminus": [
            [
             0,
             "#0d0887"
            ],
            [
             0.1111111111111111,
             "#46039f"
            ],
            [
             0.2222222222222222,
             "#7201a8"
            ],
            [
             0.3333333333333333,
             "#9c179e"
            ],
            [
             0.4444444444444444,
             "#bd3786"
            ],
            [
             0.5555555555555556,
             "#d8576b"
            ],
            [
             0.6666666666666666,
             "#ed7953"
            ],
            [
             0.7777777777777778,
             "#fb9f3a"
            ],
            [
             0.8888888888888888,
             "#fdca26"
            ],
            [
             1,
             "#f0f921"
            ]
           ]
          },
          "colorway": [
           "#636efa",
           "#EF553B",
           "#00cc96",
           "#ab63fa",
           "#FFA15A",
           "#19d3f3",
           "#FF6692",
           "#B6E880",
           "#FF97FF",
           "#FECB52"
          ],
          "font": {
           "color": "#f2f5fa"
          },
          "geo": {
           "bgcolor": "rgb(17,17,17)",
           "lakecolor": "rgb(17,17,17)",
           "landcolor": "rgb(17,17,17)",
           "showlakes": true,
           "showland": true,
           "subunitcolor": "#506784"
          },
          "hoverlabel": {
           "align": "left"
          },
          "hovermode": "closest",
          "mapbox": {
           "style": "dark"
          },
          "paper_bgcolor": "rgb(17,17,17)",
          "plot_bgcolor": "rgb(17,17,17)",
          "polar": {
           "angularaxis": {
            "gridcolor": "#506784",
            "linecolor": "#506784",
            "ticks": ""
           },
           "bgcolor": "rgb(17,17,17)",
           "radialaxis": {
            "gridcolor": "#506784",
            "linecolor": "#506784",
            "ticks": ""
           }
          },
          "scene": {
           "xaxis": {
            "backgroundcolor": "rgb(17,17,17)",
            "gridcolor": "#506784",
            "gridwidth": 2,
            "linecolor": "#506784",
            "showbackground": true,
            "ticks": "",
            "zerolinecolor": "#C8D4E3"
           },
           "yaxis": {
            "backgroundcolor": "rgb(17,17,17)",
            "gridcolor": "#506784",
            "gridwidth": 2,
            "linecolor": "#506784",
            "showbackground": true,
            "ticks": "",
            "zerolinecolor": "#C8D4E3"
           },
           "zaxis": {
            "backgroundcolor": "rgb(17,17,17)",
            "gridcolor": "#506784",
            "gridwidth": 2,
            "linecolor": "#506784",
            "showbackground": true,
            "ticks": "",
            "zerolinecolor": "#C8D4E3"
           }
          },
          "shapedefaults": {
           "line": {
            "color": "#f2f5fa"
           }
          },
          "sliderdefaults": {
           "bgcolor": "#C8D4E3",
           "bordercolor": "rgb(17,17,17)",
           "borderwidth": 1,
           "tickwidth": 0
          },
          "ternary": {
           "aaxis": {
            "gridcolor": "#506784",
            "linecolor": "#506784",
            "ticks": ""
           },
           "baxis": {
            "gridcolor": "#506784",
            "linecolor": "#506784",
            "ticks": ""
           },
           "bgcolor": "rgb(17,17,17)",
           "caxis": {
            "gridcolor": "#506784",
            "linecolor": "#506784",
            "ticks": ""
           }
          },
          "title": {
           "x": 0.05
          },
          "updatemenudefaults": {
           "bgcolor": "#506784",
           "borderwidth": 0
          },
          "xaxis": {
           "automargin": true,
           "gridcolor": "#283442",
           "linecolor": "#506784",
           "ticks": "",
           "title": {
            "standoff": 15
           },
           "zerolinecolor": "#283442",
           "zerolinewidth": 2
          },
          "yaxis": {
           "automargin": true,
           "gridcolor": "#283442",
           "linecolor": "#506784",
           "ticks": "",
           "title": {
            "standoff": 15
           },
           "zerolinecolor": "#283442",
           "zerolinewidth": 2
          }
         }
        },
        "title": {
         "text": "Iris Scatterplot"
        },
        "xaxis": {
         "anchor": "y",
         "domain": [
          0,
          1
         ],
         "title": {
          "text": "Ширина пелюстки"
         }
        },
        "yaxis": {
         "anchor": "x",
         "domain": [
          0,
          1
         ],
         "title": {
          "text": "Довжина пелюстки"
         }
        }
       }
      },
      "text/html": [
       "<div>                            <div id=\"4cfc533f-fee0-493a-845d-8b91287e5028\" class=\"plotly-graph-div\" style=\"height:525px; width:100%;\"></div>            <script type=\"text/javascript\">                require([\"plotly\"], function(Plotly) {                    window.PLOTLYENV=window.PLOTLYENV || {};                                    if (document.getElementById(\"4cfc533f-fee0-493a-845d-8b91287e5028\")) {                    Plotly.newPlot(                        \"4cfc533f-fee0-493a-845d-8b91287e5028\",                        [{\"hovertemplate\":\"species=setosa<br>\\u0428\\u0438\\u0440\\u0438\\u043d\\u0430 \\u043f\\u0435\\u043b\\u044e\\u0441\\u0442\\u043a\\u0438=%{x}<br>\\u0414\\u043e\\u0432\\u0436\\u0438\\u043d\\u0430 \\u043f\\u0435\\u043b\\u044e\\u0441\\u0442\\u043a\\u0438=%{y}<br>petal_length=%{marker.size}<extra></extra>\",\"legendgroup\":\"setosa\",\"marker\":{\"color\":\"#636efa\",\"size\":[1.4,1.4,1.3,1.5,1.4,1.7,1.4,1.5,1.4,1.5,1.5,1.6,1.4,1.1,1.2,1.5,1.3,1.4,1.7,1.5,1.7,1.5,1.0,1.7,1.9,1.6,1.6,1.5,1.4,1.6,1.6,1.5,1.5,1.4,1.5,1.2,1.3,1.5,1.3,1.5,1.3,1.3,1.3,1.6,1.9,1.4,1.6,1.4,1.5,1.4],\"sizemode\":\"area\",\"sizeref\":0.01725,\"symbol\":\"circle\"},\"mode\":\"markers\",\"name\":\"setosa\",\"orientation\":\"v\",\"showlegend\":true,\"x\":[3.5,3.0,3.2,3.1,3.6,3.9,3.4,3.4,2.9,3.1,3.7,3.4,3.0,3.0,4.0,4.4,3.9,3.5,3.8,3.8,3.4,3.7,3.6,3.3,3.4,3.0,3.4,3.5,3.4,3.2,3.1,3.4,4.1,4.2,3.1,3.2,3.5,3.1,3.0,3.4,3.5,2.3,3.2,3.5,3.8,3.0,3.8,3.2,3.7,3.3],\"xaxis\":\"x\",\"y\":[5.1,4.9,4.7,4.6,5.0,5.4,4.6,5.0,4.4,4.9,5.4,4.8,4.8,4.3,5.8,5.7,5.4,5.1,5.7,5.1,5.4,5.1,4.6,5.1,4.8,5.0,5.0,5.2,5.2,4.7,4.8,5.4,5.2,5.5,4.9,5.0,5.5,4.9,4.4,5.1,5.0,4.5,4.4,5.0,5.1,4.8,5.1,4.6,5.3,5.0],\"yaxis\":\"y\",\"type\":\"scatter\"},{\"hovertemplate\":\"species=versicolor<br>\\u0428\\u0438\\u0440\\u0438\\u043d\\u0430 \\u043f\\u0435\\u043b\\u044e\\u0441\\u0442\\u043a\\u0438=%{x}<br>\\u0414\\u043e\\u0432\\u0436\\u0438\\u043d\\u0430 \\u043f\\u0435\\u043b\\u044e\\u0441\\u0442\\u043a\\u0438=%{y}<br>petal_length=%{marker.size}<extra></extra>\",\"legendgroup\":\"versicolor\",\"marker\":{\"color\":\"#EF553B\",\"size\":[4.7,4.5,4.9,4.0,4.6,4.5,4.7,3.3,4.6,3.9,3.5,4.2,4.0,4.7,3.6,4.4,4.5,4.1,4.5,3.9,4.8,4.0,4.9,4.7,4.3,4.4,4.8,5.0,4.5,3.5,3.8,3.7,3.9,5.1,4.5,4.5,4.7,4.4,4.1,4.0,4.4,4.6,4.0,3.3,4.2,4.2,4.2,4.3,3.0,4.1],\"sizemode\":\"area\",\"sizeref\":0.01725,\"symbol\":\"circle\"},\"mode\":\"markers\",\"name\":\"versicolor\",\"orientation\":\"v\",\"showlegend\":true,\"x\":[3.2,3.2,3.1,2.3,2.8,2.8,3.3,2.4,2.9,2.7,2.0,3.0,2.2,2.9,2.9,3.1,3.0,2.7,2.2,2.5,3.2,2.8,2.5,2.8,2.9,3.0,2.8,3.0,2.9,2.6,2.4,2.4,2.7,2.7,3.0,3.4,3.1,2.3,3.0,2.5,2.6,3.0,2.6,2.3,2.7,3.0,2.9,2.9,2.5,2.8],\"xaxis\":\"x\",\"y\":[7.0,6.4,6.9,5.5,6.5,5.7,6.3,4.9,6.6,5.2,5.0,5.9,6.0,6.1,5.6,6.7,5.6,5.8,6.2,5.6,5.9,6.1,6.3,6.1,6.4,6.6,6.8,6.7,6.0,5.7,5.5,5.5,5.8,6.0,5.4,6.0,6.7,6.3,5.6,5.5,5.5,6.1,5.8,5.0,5.6,5.7,5.7,6.2,5.1,5.7],\"yaxis\":\"y\",\"type\":\"scatter\"},{\"hovertemplate\":\"species=virginica<br>\\u0428\\u0438\\u0440\\u0438\\u043d\\u0430 \\u043f\\u0435\\u043b\\u044e\\u0441\\u0442\\u043a\\u0438=%{x}<br>\\u0414\\u043e\\u0432\\u0436\\u0438\\u043d\\u0430 \\u043f\\u0435\\u043b\\u044e\\u0441\\u0442\\u043a\\u0438=%{y}<br>petal_length=%{marker.size}<extra></extra>\",\"legendgroup\":\"virginica\",\"marker\":{\"color\":\"#00cc96\",\"size\":[6.0,5.1,5.9,5.6,5.8,6.6,4.5,6.3,5.8,6.1,5.1,5.3,5.5,5.0,5.1,5.3,5.5,6.7,6.9,5.0,5.7,4.9,6.7,4.9,5.7,6.0,4.8,4.9,5.6,5.8,6.1,6.4,5.6,5.1,5.6,6.1,5.6,5.5,4.8,5.4,5.6,5.1,5.1,5.9,5.7,5.2,5.0,5.2,5.4,5.1],\"sizemode\":\"area\",\"sizeref\":0.01725,\"symbol\":\"circle\"},\"mode\":\"markers\",\"name\":\"virginica\",\"orientation\":\"v\",\"showlegend\":true,\"x\":[3.3,2.7,3.0,2.9,3.0,3.0,2.5,2.9,2.5,3.6,3.2,2.7,3.0,2.5,2.8,3.2,3.0,3.8,2.6,2.2,3.2,2.8,2.8,2.7,3.3,3.2,2.8,3.0,2.8,3.0,2.8,3.8,2.8,2.8,2.6,3.0,3.4,3.1,3.0,3.1,3.1,3.1,2.7,3.2,3.3,3.0,2.5,3.0,3.4,3.0],\"xaxis\":\"x\",\"y\":[6.3,5.8,7.1,6.3,6.5,7.6,4.9,7.3,6.7,7.2,6.5,6.4,6.8,5.7,5.8,6.4,6.5,7.7,7.7,6.0,6.9,5.6,7.7,6.3,6.7,7.2,6.2,6.1,6.4,7.2,7.4,7.9,6.4,6.3,6.1,7.7,6.3,6.4,6.0,6.9,6.7,6.9,5.8,6.8,6.7,6.7,6.3,6.5,6.2,5.9],\"yaxis\":\"y\",\"type\":\"scatter\"}],                        {\"template\":{\"data\":{\"barpolar\":[{\"marker\":{\"line\":{\"color\":\"rgb(17,17,17)\",\"width\":0.5},\"pattern\":{\"fillmode\":\"overlay\",\"size\":10,\"solidity\":0.2}},\"type\":\"barpolar\"}],\"bar\":[{\"error_x\":{\"color\":\"#f2f5fa\"},\"error_y\":{\"color\":\"#f2f5fa\"},\"marker\":{\"line\":{\"color\":\"rgb(17,17,17)\",\"width\":0.5},\"pattern\":{\"fillmode\":\"overlay\",\"size\":10,\"solidity\":0.2}},\"type\":\"bar\"}],\"carpet\":[{\"aaxis\":{\"endlinecolor\":\"#A2B1C6\",\"gridcolor\":\"#506784\",\"linecolor\":\"#506784\",\"minorgridcolor\":\"#506784\",\"startlinecolor\":\"#A2B1C6\"},\"baxis\":{\"endlinecolor\":\"#A2B1C6\",\"gridcolor\":\"#506784\",\"linecolor\":\"#506784\",\"minorgridcolor\":\"#506784\",\"startlinecolor\":\"#A2B1C6\"},\"type\":\"carpet\"}],\"choropleth\":[{\"colorbar\":{\"outlinewidth\":0,\"ticks\":\"\"},\"type\":\"choropleth\"}],\"contourcarpet\":[{\"colorbar\":{\"outlinewidth\":0,\"ticks\":\"\"},\"type\":\"contourcarpet\"}],\"contour\":[{\"colorbar\":{\"outlinewidth\":0,\"ticks\":\"\"},\"colorscale\":[[0.0,\"#0d0887\"],[0.1111111111111111,\"#46039f\"],[0.2222222222222222,\"#7201a8\"],[0.3333333333333333,\"#9c179e\"],[0.4444444444444444,\"#bd3786\"],[0.5555555555555556,\"#d8576b\"],[0.6666666666666666,\"#ed7953\"],[0.7777777777777778,\"#fb9f3a\"],[0.8888888888888888,\"#fdca26\"],[1.0,\"#f0f921\"]],\"type\":\"contour\"}],\"heatmapgl\":[{\"colorbar\":{\"outlinewidth\":0,\"ticks\":\"\"},\"colorscale\":[[0.0,\"#0d0887\"],[0.1111111111111111,\"#46039f\"],[0.2222222222222222,\"#7201a8\"],[0.3333333333333333,\"#9c179e\"],[0.4444444444444444,\"#bd3786\"],[0.5555555555555556,\"#d8576b\"],[0.6666666666666666,\"#ed7953\"],[0.7777777777777778,\"#fb9f3a\"],[0.8888888888888888,\"#fdca26\"],[1.0,\"#f0f921\"]],\"type\":\"heatmapgl\"}],\"heatmap\":[{\"colorbar\":{\"outlinewidth\":0,\"ticks\":\"\"},\"colorscale\":[[0.0,\"#0d0887\"],[0.1111111111111111,\"#46039f\"],[0.2222222222222222,\"#7201a8\"],[0.3333333333333333,\"#9c179e\"],[0.4444444444444444,\"#bd3786\"],[0.5555555555555556,\"#d8576b\"],[0.6666666666666666,\"#ed7953\"],[0.7777777777777778,\"#fb9f3a\"],[0.8888888888888888,\"#fdca26\"],[1.0,\"#f0f921\"]],\"type\":\"heatmap\"}],\"histogram2dcontour\":[{\"colorbar\":{\"outlinewidth\":0,\"ticks\":\"\"},\"colorscale\":[[0.0,\"#0d0887\"],[0.1111111111111111,\"#46039f\"],[0.2222222222222222,\"#7201a8\"],[0.3333333333333333,\"#9c179e\"],[0.4444444444444444,\"#bd3786\"],[0.5555555555555556,\"#d8576b\"],[0.6666666666666666,\"#ed7953\"],[0.7777777777777778,\"#fb9f3a\"],[0.8888888888888888,\"#fdca26\"],[1.0,\"#f0f921\"]],\"type\":\"histogram2dcontour\"}],\"histogram2d\":[{\"colorbar\":{\"outlinewidth\":0,\"ticks\":\"\"},\"colorscale\":[[0.0,\"#0d0887\"],[0.1111111111111111,\"#46039f\"],[0.2222222222222222,\"#7201a8\"],[0.3333333333333333,\"#9c179e\"],[0.4444444444444444,\"#bd3786\"],[0.5555555555555556,\"#d8576b\"],[0.6666666666666666,\"#ed7953\"],[0.7777777777777778,\"#fb9f3a\"],[0.8888888888888888,\"#fdca26\"],[1.0,\"#f0f921\"]],\"type\":\"histogram2d\"}],\"histogram\":[{\"marker\":{\"pattern\":{\"fillmode\":\"overlay\",\"size\":10,\"solidity\":0.2}},\"type\":\"histogram\"}],\"mesh3d\":[{\"colorbar\":{\"outlinewidth\":0,\"ticks\":\"\"},\"type\":\"mesh3d\"}],\"parcoords\":[{\"line\":{\"colorbar\":{\"outlinewidth\":0,\"ticks\":\"\"}},\"type\":\"parcoords\"}],\"pie\":[{\"automargin\":true,\"type\":\"pie\"}],\"scatter3d\":[{\"line\":{\"colorbar\":{\"outlinewidth\":0,\"ticks\":\"\"}},\"marker\":{\"colorbar\":{\"outlinewidth\":0,\"ticks\":\"\"}},\"type\":\"scatter3d\"}],\"scattercarpet\":[{\"marker\":{\"colorbar\":{\"outlinewidth\":0,\"ticks\":\"\"}},\"type\":\"scattercarpet\"}],\"scattergeo\":[{\"marker\":{\"colorbar\":{\"outlinewidth\":0,\"ticks\":\"\"}},\"type\":\"scattergeo\"}],\"scattergl\":[{\"marker\":{\"line\":{\"color\":\"#283442\"}},\"type\":\"scattergl\"}],\"scattermapbox\":[{\"marker\":{\"colorbar\":{\"outlinewidth\":0,\"ticks\":\"\"}},\"type\":\"scattermapbox\"}],\"scatterpolargl\":[{\"marker\":{\"colorbar\":{\"outlinewidth\":0,\"ticks\":\"\"}},\"type\":\"scatterpolargl\"}],\"scatterpolar\":[{\"marker\":{\"colorbar\":{\"outlinewidth\":0,\"ticks\":\"\"}},\"type\":\"scatterpolar\"}],\"scatter\":[{\"marker\":{\"line\":{\"color\":\"#283442\"}},\"type\":\"scatter\"}],\"scatterternary\":[{\"marker\":{\"colorbar\":{\"outlinewidth\":0,\"ticks\":\"\"}},\"type\":\"scatterternary\"}],\"surface\":[{\"colorbar\":{\"outlinewidth\":0,\"ticks\":\"\"},\"colorscale\":[[0.0,\"#0d0887\"],[0.1111111111111111,\"#46039f\"],[0.2222222222222222,\"#7201a8\"],[0.3333333333333333,\"#9c179e\"],[0.4444444444444444,\"#bd3786\"],[0.5555555555555556,\"#d8576b\"],[0.6666666666666666,\"#ed7953\"],[0.7777777777777778,\"#fb9f3a\"],[0.8888888888888888,\"#fdca26\"],[1.0,\"#f0f921\"]],\"type\":\"surface\"}],\"table\":[{\"cells\":{\"fill\":{\"color\":\"#506784\"},\"line\":{\"color\":\"rgb(17,17,17)\"}},\"header\":{\"fill\":{\"color\":\"#2a3f5f\"},\"line\":{\"color\":\"rgb(17,17,17)\"}},\"type\":\"table\"}]},\"layout\":{\"annotationdefaults\":{\"arrowcolor\":\"#f2f5fa\",\"arrowhead\":0,\"arrowwidth\":1},\"autotypenumbers\":\"strict\",\"coloraxis\":{\"colorbar\":{\"outlinewidth\":0,\"ticks\":\"\"}},\"colorscale\":{\"diverging\":[[0,\"#8e0152\"],[0.1,\"#c51b7d\"],[0.2,\"#de77ae\"],[0.3,\"#f1b6da\"],[0.4,\"#fde0ef\"],[0.5,\"#f7f7f7\"],[0.6,\"#e6f5d0\"],[0.7,\"#b8e186\"],[0.8,\"#7fbc41\"],[0.9,\"#4d9221\"],[1,\"#276419\"]],\"sequential\":[[0.0,\"#0d0887\"],[0.1111111111111111,\"#46039f\"],[0.2222222222222222,\"#7201a8\"],[0.3333333333333333,\"#9c179e\"],[0.4444444444444444,\"#bd3786\"],[0.5555555555555556,\"#d8576b\"],[0.6666666666666666,\"#ed7953\"],[0.7777777777777778,\"#fb9f3a\"],[0.8888888888888888,\"#fdca26\"],[1.0,\"#f0f921\"]],\"sequentialminus\":[[0.0,\"#0d0887\"],[0.1111111111111111,\"#46039f\"],[0.2222222222222222,\"#7201a8\"],[0.3333333333333333,\"#9c179e\"],[0.4444444444444444,\"#bd3786\"],[0.5555555555555556,\"#d8576b\"],[0.6666666666666666,\"#ed7953\"],[0.7777777777777778,\"#fb9f3a\"],[0.8888888888888888,\"#fdca26\"],[1.0,\"#f0f921\"]]},\"colorway\":[\"#636efa\",\"#EF553B\",\"#00cc96\",\"#ab63fa\",\"#FFA15A\",\"#19d3f3\",\"#FF6692\",\"#B6E880\",\"#FF97FF\",\"#FECB52\"],\"font\":{\"color\":\"#f2f5fa\"},\"geo\":{\"bgcolor\":\"rgb(17,17,17)\",\"lakecolor\":\"rgb(17,17,17)\",\"landcolor\":\"rgb(17,17,17)\",\"showlakes\":true,\"showland\":true,\"subunitcolor\":\"#506784\"},\"hoverlabel\":{\"align\":\"left\"},\"hovermode\":\"closest\",\"mapbox\":{\"style\":\"dark\"},\"paper_bgcolor\":\"rgb(17,17,17)\",\"plot_bgcolor\":\"rgb(17,17,17)\",\"polar\":{\"angularaxis\":{\"gridcolor\":\"#506784\",\"linecolor\":\"#506784\",\"ticks\":\"\"},\"bgcolor\":\"rgb(17,17,17)\",\"radialaxis\":{\"gridcolor\":\"#506784\",\"linecolor\":\"#506784\",\"ticks\":\"\"}},\"scene\":{\"xaxis\":{\"backgroundcolor\":\"rgb(17,17,17)\",\"gridcolor\":\"#506784\",\"gridwidth\":2,\"linecolor\":\"#506784\",\"showbackground\":true,\"ticks\":\"\",\"zerolinecolor\":\"#C8D4E3\"},\"yaxis\":{\"backgroundcolor\":\"rgb(17,17,17)\",\"gridcolor\":\"#506784\",\"gridwidth\":2,\"linecolor\":\"#506784\",\"showbackground\":true,\"ticks\":\"\",\"zerolinecolor\":\"#C8D4E3\"},\"zaxis\":{\"backgroundcolor\":\"rgb(17,17,17)\",\"gridcolor\":\"#506784\",\"gridwidth\":2,\"linecolor\":\"#506784\",\"showbackground\":true,\"ticks\":\"\",\"zerolinecolor\":\"#C8D4E3\"}},\"shapedefaults\":{\"line\":{\"color\":\"#f2f5fa\"}},\"sliderdefaults\":{\"bgcolor\":\"#C8D4E3\",\"bordercolor\":\"rgb(17,17,17)\",\"borderwidth\":1,\"tickwidth\":0},\"ternary\":{\"aaxis\":{\"gridcolor\":\"#506784\",\"linecolor\":\"#506784\",\"ticks\":\"\"},\"baxis\":{\"gridcolor\":\"#506784\",\"linecolor\":\"#506784\",\"ticks\":\"\"},\"bgcolor\":\"rgb(17,17,17)\",\"caxis\":{\"gridcolor\":\"#506784\",\"linecolor\":\"#506784\",\"ticks\":\"\"}},\"title\":{\"x\":0.05},\"updatemenudefaults\":{\"bgcolor\":\"#506784\",\"borderwidth\":0},\"xaxis\":{\"automargin\":true,\"gridcolor\":\"#283442\",\"linecolor\":\"#506784\",\"ticks\":\"\",\"title\":{\"standoff\":15},\"zerolinecolor\":\"#283442\",\"zerolinewidth\":2},\"yaxis\":{\"automargin\":true,\"gridcolor\":\"#283442\",\"linecolor\":\"#506784\",\"ticks\":\"\",\"title\":{\"standoff\":15},\"zerolinecolor\":\"#283442\",\"zerolinewidth\":2}}},\"xaxis\":{\"anchor\":\"y\",\"domain\":[0.0,1.0],\"title\":{\"text\":\"\\u0428\\u0438\\u0440\\u0438\\u043d\\u0430 \\u043f\\u0435\\u043b\\u044e\\u0441\\u0442\\u043a\\u0438\"}},\"yaxis\":{\"anchor\":\"x\",\"domain\":[0.0,1.0],\"title\":{\"text\":\"\\u0414\\u043e\\u0432\\u0436\\u0438\\u043d\\u0430 \\u043f\\u0435\\u043b\\u044e\\u0441\\u0442\\u043a\\u0438\"}},\"legend\":{\"title\":{\"text\":\"species\"},\"tracegroupgap\":0,\"itemsizing\":\"constant\"},\"title\":{\"text\":\"Iris Scatterplot\"}},                        {\"responsive\": true}                    ).then(function(){\n",
       "                            \n",
       "var gd = document.getElementById('4cfc533f-fee0-493a-845d-8b91287e5028');\n",
       "var x = new MutationObserver(function (mutations, observer) {{\n",
       "        var display = window.getComputedStyle(gd).display;\n",
       "        if (!display || display === 'none') {{\n",
       "            console.log([gd, 'removed!']);\n",
       "            Plotly.purge(gd);\n",
       "            observer.disconnect();\n",
       "        }}\n",
       "}});\n",
       "\n",
       "// Listen for the removal of the full notebook cells\n",
       "var notebookContainer = gd.closest('#notebook-container');\n",
       "if (notebookContainer) {{\n",
       "    x.observe(notebookContainer, {childList: true});\n",
       "}}\n",
       "\n",
       "// Listen for the clearing of the current output cell\n",
       "var outputEl = gd.closest('.output');\n",
       "if (outputEl) {{\n",
       "    x.observe(outputEl, {childList: true});\n",
       "}}\n",
       "\n",
       "                        })                };                });            </script>        </div>"
      ]
     },
     "metadata": {},
     "output_type": "display_data"
    }
   ],
   "source": [
    "# 3. Створіть графік (scatter plot) для даних ірисів (iris dataset).\n",
    "# Де:\n",
    "# Вісь X (x-axis) відповідає ширині чашелистика (sepal width).\n",
    "# Вісь Y (y-axis) відповідає довжині чашелистика (sepal length).\n",
    "# Кожен пункт на графіку має розмір, який залежить від довжини \n",
    "# пелюстки (petal length).\n",
    "# Кожен пункт на графіку має різний колір в залежності від виду \n",
    "# (species).\n",
    "# При наведенні на пункт повинні відображатися додаткові дані, такі як \n",
    "# ширина пелюстки (petal width) \n",
    "data_iris = px.data.iris()\n",
    "fig = px.scatter(data_iris, x=\"sepal_width\", y=\"sepal_length\", template = \"plotly_dark\", labels = {\"sepal_width\": \"Ширина пелюстки\", \"sepal_length\": \"Довжина пелюстки\"}, size = \"petal_length\", color = \"species\", title = \"Iris Scatterplot\")\n",
    "fig.show()"
   ]
  }
 ],
 "metadata": {
  "kernelspec": {
   "display_name": "Python 3 (ipykernel)",
   "language": "python",
   "name": "python3"
  },
  "language_info": {
   "codemirror_mode": {
    "name": "ipython",
    "version": 3
   },
   "file_extension": ".py",
   "mimetype": "text/x-python",
   "name": "python",
   "nbconvert_exporter": "python",
   "pygments_lexer": "ipython3",
   "version": "3.9.7"
  }
 },
 "nbformat": 4,
 "nbformat_minor": 5
}
